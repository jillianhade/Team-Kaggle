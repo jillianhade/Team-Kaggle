{
 "cells": [
  {
   "cell_type": "code",
   "execution_count": 1,
   "metadata": {
    "collapsed": true
   },
   "outputs": [],
   "source": [
    "import pandas as pd"
   ]
  },
  {
   "cell_type": "code",
   "execution_count": 2,
   "metadata": {
    "collapsed": false
   },
   "outputs": [
    {
     "data": {
      "text/plain": [
       "u'/Users/mgnbecker/Team-Kaggle'"
      ]
     },
     "execution_count": 2,
     "metadata": {},
     "output_type": "execute_result"
    }
   ],
   "source": [
    "pwd"
   ]
  },
  {
   "cell_type": "code",
   "execution_count": 3,
   "metadata": {
    "collapsed": false
   },
   "outputs": [],
   "source": [
    "biology = pd.read_csv('biology_nohtml.csv', index_col=0)\n",
    "cooking = pd.read_csv('cooking_nohtml.csv', index_col=0)\n",
    "crypto = pd.read_csv('crypto_nohtml.csv', index_col=0)\n",
    "diy = pd.read_csv('diy_nohtml.csv', index_col=0)\n",
    "robotics = pd.read_csv('robotics_nohtml.csv', index_col=0)\n",
    "travel = pd.read_csv('travel_nohtml.csv', index_col=0)"
   ]
  },
  {
   "cell_type": "code",
   "execution_count": 4,
   "metadata": {
    "collapsed": false
   },
   "outputs": [
    {
     "data": {
      "text/html": [
       "<div>\n",
       "<table border=\"1\" class=\"dataframe\">\n",
       "  <thead>\n",
       "    <tr style=\"text-align: right;\">\n",
       "      <th></th>\n",
       "      <th>title</th>\n",
       "      <th>text</th>\n",
       "      <th>tags</th>\n",
       "    </tr>\n",
       "  </thead>\n",
       "  <tbody>\n",
       "    <tr>\n",
       "      <th>0</th>\n",
       "      <td>What are the benefits of the two permutation t...</td>\n",
       "      <td>Why do we use a permutation table in the first...</td>\n",
       "      <td>block-cipher des permutation</td>\n",
       "    </tr>\n",
       "    <tr>\n",
       "      <th>1</th>\n",
       "      <td>Why use a 1-2 Oblivious Transfer instead of a ...</td>\n",
       "      <td>When initiating an oblivious transfer, why wou...</td>\n",
       "      <td>oblivious-transfer multiparty-computation func...</td>\n",
       "    </tr>\n",
       "    <tr>\n",
       "      <th>2</th>\n",
       "      <td>Why do we append the length of the message in ...</td>\n",
       "      <td>As we know, SHA-1 is irreversible, so why do w...</td>\n",
       "      <td>sha-1 hash</td>\n",
       "    </tr>\n",
       "    <tr>\n",
       "      <th>3</th>\n",
       "      <td>What is the general justification for the hard...</td>\n",
       "      <td>Since most cryptographic hash functions are si...</td>\n",
       "      <td>hash cryptanalysis preimage-resistance</td>\n",
       "    </tr>\n",
       "    <tr>\n",
       "      <th>4</th>\n",
       "      <td>How can I use asymmetric encryption, such as R...</td>\n",
       "      <td>RSA is not designed to be used on long blocks ...</td>\n",
       "      <td>encryption rsa public-key</td>\n",
       "    </tr>\n",
       "  </tbody>\n",
       "</table>\n",
       "</div>"
      ],
      "text/plain": [
       "                                               title  \\\n",
       "0  What are the benefits of the two permutation t...   \n",
       "1  Why use a 1-2 Oblivious Transfer instead of a ...   \n",
       "2  Why do we append the length of the message in ...   \n",
       "3  What is the general justification for the hard...   \n",
       "4  How can I use asymmetric encryption, such as R...   \n",
       "\n",
       "                                                text  \\\n",
       "0  Why do we use a permutation table in the first...   \n",
       "1  When initiating an oblivious transfer, why wou...   \n",
       "2  As we know, SHA-1 is irreversible, so why do w...   \n",
       "3  Since most cryptographic hash functions are si...   \n",
       "4  RSA is not designed to be used on long blocks ...   \n",
       "\n",
       "                                                tags  \n",
       "0                       block-cipher des permutation  \n",
       "1  oblivious-transfer multiparty-computation func...  \n",
       "2                                         sha-1 hash  \n",
       "3             hash cryptanalysis preimage-resistance  \n",
       "4                          encryption rsa public-key  "
      ]
     },
     "execution_count": 4,
     "metadata": {},
     "output_type": "execute_result"
    }
   ],
   "source": [
    "crypto.head()"
   ]
  },
  {
   "cell_type": "code",
   "execution_count": 5,
   "metadata": {
    "collapsed": true
   },
   "outputs": [],
   "source": [
    "biology['is_biology'] = 1"
   ]
  },
  {
   "cell_type": "code",
   "execution_count": 6,
   "metadata": {
    "collapsed": true
   },
   "outputs": [],
   "source": [
    "cooking['is_cooking'] = 1"
   ]
  },
  {
   "cell_type": "code",
   "execution_count": 7,
   "metadata": {
    "collapsed": true
   },
   "outputs": [],
   "source": [
    "crypto['is_crypto'] = 1"
   ]
  },
  {
   "cell_type": "code",
   "execution_count": 8,
   "metadata": {
    "collapsed": true
   },
   "outputs": [],
   "source": [
    "diy['is_diy'] = 1"
   ]
  },
  {
   "cell_type": "code",
   "execution_count": 9,
   "metadata": {
    "collapsed": true
   },
   "outputs": [],
   "source": [
    "robotics['is_robotics'] = 1"
   ]
  },
  {
   "cell_type": "code",
   "execution_count": 10,
   "metadata": {
    "collapsed": true
   },
   "outputs": [],
   "source": [
    "travel['is_travel'] = 1"
   ]
  },
  {
   "cell_type": "code",
   "execution_count": 11,
   "metadata": {
    "collapsed": false
   },
   "outputs": [
    {
     "data": {
      "text/html": [
       "<div>\n",
       "<table border=\"1\" class=\"dataframe\">\n",
       "  <thead>\n",
       "    <tr style=\"text-align: right;\">\n",
       "      <th></th>\n",
       "      <th>title</th>\n",
       "      <th>text</th>\n",
       "      <th>tags</th>\n",
       "      <th>is_biology</th>\n",
       "    </tr>\n",
       "  </thead>\n",
       "  <tbody>\n",
       "    <tr>\n",
       "      <th>0</th>\n",
       "      <td>What is the criticality of the ribosome bindin...</td>\n",
       "      <td>In prokaryotic translation, how critical for e...</td>\n",
       "      <td>ribosome binding-sites translation synthetic-b...</td>\n",
       "      <td>1</td>\n",
       "    </tr>\n",
       "    <tr>\n",
       "      <th>1</th>\n",
       "      <td>How is RNAse contamination in RNA based experi...</td>\n",
       "      <td>Does anyone have any suggestions to prevent RN...</td>\n",
       "      <td>rna biochemistry</td>\n",
       "      <td>1</td>\n",
       "    </tr>\n",
       "    <tr>\n",
       "      <th>2</th>\n",
       "      <td>Are lymphocyte sizes clustered in two groups?</td>\n",
       "      <td>Tortora writes in Principles of Anatomy and Ph...</td>\n",
       "      <td>immunology cell-biology hematology</td>\n",
       "      <td>1</td>\n",
       "    </tr>\n",
       "    <tr>\n",
       "      <th>3</th>\n",
       "      <td>How long does antibiotic-dosed LB maintain goo...</td>\n",
       "      <td>Various people in our lab will prepare a liter...</td>\n",
       "      <td>cell-culture</td>\n",
       "      <td>1</td>\n",
       "    </tr>\n",
       "    <tr>\n",
       "      <th>4</th>\n",
       "      <td>Is exon order always preserved in splicing?</td>\n",
       "      <td>Are there any cases in which the splicing mach...</td>\n",
       "      <td>splicing mrna spliceosome introns exons</td>\n",
       "      <td>1</td>\n",
       "    </tr>\n",
       "  </tbody>\n",
       "</table>\n",
       "</div>"
      ],
      "text/plain": [
       "                                               title  \\\n",
       "0  What is the criticality of the ribosome bindin...   \n",
       "1  How is RNAse contamination in RNA based experi...   \n",
       "2      Are lymphocyte sizes clustered in two groups?   \n",
       "3  How long does antibiotic-dosed LB maintain goo...   \n",
       "4        Is exon order always preserved in splicing?   \n",
       "\n",
       "                                                text  \\\n",
       "0  In prokaryotic translation, how critical for e...   \n",
       "1  Does anyone have any suggestions to prevent RN...   \n",
       "2  Tortora writes in Principles of Anatomy and Ph...   \n",
       "3  Various people in our lab will prepare a liter...   \n",
       "4  Are there any cases in which the splicing mach...   \n",
       "\n",
       "                                                tags  is_biology  \n",
       "0  ribosome binding-sites translation synthetic-b...           1  \n",
       "1                                   rna biochemistry           1  \n",
       "2                 immunology cell-biology hematology           1  \n",
       "3                                       cell-culture           1  \n",
       "4            splicing mrna spliceosome introns exons           1  "
      ]
     },
     "execution_count": 11,
     "metadata": {},
     "output_type": "execute_result"
    }
   ],
   "source": [
    "biology.head()"
   ]
  },
  {
   "cell_type": "code",
   "execution_count": 12,
   "metadata": {
    "collapsed": false
   },
   "outputs": [
    {
     "data": {
      "text/html": [
       "<div>\n",
       "<table border=\"1\" class=\"dataframe\">\n",
       "  <thead>\n",
       "    <tr style=\"text-align: right;\">\n",
       "      <th></th>\n",
       "      <th>title</th>\n",
       "      <th>text</th>\n",
       "      <th>tags</th>\n",
       "      <th>is_crypto</th>\n",
       "    </tr>\n",
       "  </thead>\n",
       "  <tbody>\n",
       "    <tr>\n",
       "      <th>0</th>\n",
       "      <td>What are the benefits of the two permutation t...</td>\n",
       "      <td>Why do we use a permutation table in the first...</td>\n",
       "      <td>block-cipher des permutation</td>\n",
       "      <td>1</td>\n",
       "    </tr>\n",
       "    <tr>\n",
       "      <th>1</th>\n",
       "      <td>Why use a 1-2 Oblivious Transfer instead of a ...</td>\n",
       "      <td>When initiating an oblivious transfer, why wou...</td>\n",
       "      <td>oblivious-transfer multiparty-computation func...</td>\n",
       "      <td>1</td>\n",
       "    </tr>\n",
       "    <tr>\n",
       "      <th>2</th>\n",
       "      <td>Why do we append the length of the message in ...</td>\n",
       "      <td>As we know, SHA-1 is irreversible, so why do w...</td>\n",
       "      <td>sha-1 hash</td>\n",
       "      <td>1</td>\n",
       "    </tr>\n",
       "    <tr>\n",
       "      <th>3</th>\n",
       "      <td>What is the general justification for the hard...</td>\n",
       "      <td>Since most cryptographic hash functions are si...</td>\n",
       "      <td>hash cryptanalysis preimage-resistance</td>\n",
       "      <td>1</td>\n",
       "    </tr>\n",
       "    <tr>\n",
       "      <th>4</th>\n",
       "      <td>How can I use asymmetric encryption, such as R...</td>\n",
       "      <td>RSA is not designed to be used on long blocks ...</td>\n",
       "      <td>encryption rsa public-key</td>\n",
       "      <td>1</td>\n",
       "    </tr>\n",
       "  </tbody>\n",
       "</table>\n",
       "</div>"
      ],
      "text/plain": [
       "                                               title  \\\n",
       "0  What are the benefits of the two permutation t...   \n",
       "1  Why use a 1-2 Oblivious Transfer instead of a ...   \n",
       "2  Why do we append the length of the message in ...   \n",
       "3  What is the general justification for the hard...   \n",
       "4  How can I use asymmetric encryption, such as R...   \n",
       "\n",
       "                                                text  \\\n",
       "0  Why do we use a permutation table in the first...   \n",
       "1  When initiating an oblivious transfer, why wou...   \n",
       "2  As we know, SHA-1 is irreversible, so why do w...   \n",
       "3  Since most cryptographic hash functions are si...   \n",
       "4  RSA is not designed to be used on long blocks ...   \n",
       "\n",
       "                                                tags  is_crypto  \n",
       "0                       block-cipher des permutation          1  \n",
       "1  oblivious-transfer multiparty-computation func...          1  \n",
       "2                                         sha-1 hash          1  \n",
       "3             hash cryptanalysis preimage-resistance          1  \n",
       "4                          encryption rsa public-key          1  "
      ]
     },
     "execution_count": 12,
     "metadata": {},
     "output_type": "execute_result"
    }
   ],
   "source": [
    "crypto.head()"
   ]
  },
  {
   "cell_type": "code",
   "execution_count": 13,
   "metadata": {
    "collapsed": false
   },
   "outputs": [
    {
     "data": {
      "text/html": [
       "<div>\n",
       "<table border=\"1\" class=\"dataframe\">\n",
       "  <thead>\n",
       "    <tr style=\"text-align: right;\">\n",
       "      <th></th>\n",
       "      <th>title</th>\n",
       "      <th>text</th>\n",
       "      <th>tags</th>\n",
       "      <th>is_cooking</th>\n",
       "    </tr>\n",
       "  </thead>\n",
       "  <tbody>\n",
       "    <tr>\n",
       "      <th>0</th>\n",
       "      <td>How can I get chewy chocolate chip cookies?</td>\n",
       "      <td>My chocolate chips cookies are always too cris...</td>\n",
       "      <td>baking cookies texture</td>\n",
       "      <td>1</td>\n",
       "    </tr>\n",
       "    <tr>\n",
       "      <th>1</th>\n",
       "      <td>How should I cook bacon in an oven?</td>\n",
       "      <td>I've heard of people cooking bacon in an oven ...</td>\n",
       "      <td>oven cooking-time bacon</td>\n",
       "      <td>1</td>\n",
       "    </tr>\n",
       "    <tr>\n",
       "      <th>2</th>\n",
       "      <td>What is the difference between white and brown...</td>\n",
       "      <td>I always use brown extra large eggs, but I can...</td>\n",
       "      <td>eggs</td>\n",
       "      <td>1</td>\n",
       "    </tr>\n",
       "    <tr>\n",
       "      <th>3</th>\n",
       "      <td>What is the difference between baking soda and...</td>\n",
       "      <td>And can I use one in place of the other in cer...</td>\n",
       "      <td>substitutions please-remove-this-tag baking-so...</td>\n",
       "      <td>1</td>\n",
       "    </tr>\n",
       "    <tr>\n",
       "      <th>4</th>\n",
       "      <td>In a tomato sauce recipe, how can I cut the ac...</td>\n",
       "      <td>It seems that every time I make a tomato sauce...</td>\n",
       "      <td>sauce pasta tomatoes italian-cuisine</td>\n",
       "      <td>1</td>\n",
       "    </tr>\n",
       "  </tbody>\n",
       "</table>\n",
       "</div>"
      ],
      "text/plain": [
       "                                               title  \\\n",
       "0        How can I get chewy chocolate chip cookies?   \n",
       "1                How should I cook bacon in an oven?   \n",
       "2  What is the difference between white and brown...   \n",
       "3  What is the difference between baking soda and...   \n",
       "4  In a tomato sauce recipe, how can I cut the ac...   \n",
       "\n",
       "                                                text  \\\n",
       "0  My chocolate chips cookies are always too cris...   \n",
       "1  I've heard of people cooking bacon in an oven ...   \n",
       "2  I always use brown extra large eggs, but I can...   \n",
       "3  And can I use one in place of the other in cer...   \n",
       "4  It seems that every time I make a tomato sauce...   \n",
       "\n",
       "                                                tags  is_cooking  \n",
       "0                             baking cookies texture           1  \n",
       "1                            oven cooking-time bacon           1  \n",
       "2                                               eggs           1  \n",
       "3  substitutions please-remove-this-tag baking-so...           1  \n",
       "4               sauce pasta tomatoes italian-cuisine           1  "
      ]
     },
     "execution_count": 13,
     "metadata": {},
     "output_type": "execute_result"
    }
   ],
   "source": [
    "cooking.head()"
   ]
  },
  {
   "cell_type": "code",
   "execution_count": 14,
   "metadata": {
    "collapsed": false
   },
   "outputs": [
    {
     "data": {
      "text/html": [
       "<div>\n",
       "<table border=\"1\" class=\"dataframe\">\n",
       "  <thead>\n",
       "    <tr style=\"text-align: right;\">\n",
       "      <th></th>\n",
       "      <th>title</th>\n",
       "      <th>text</th>\n",
       "      <th>tags</th>\n",
       "      <th>is_diy</th>\n",
       "    </tr>\n",
       "  </thead>\n",
       "  <tbody>\n",
       "    <tr>\n",
       "      <th>0</th>\n",
       "      <td>How do I install a new, non load bearing wall ...</td>\n",
       "      <td>I'm looking to finish my basement and simply w...</td>\n",
       "      <td>remodeling basement carpentry</td>\n",
       "      <td>1</td>\n",
       "    </tr>\n",
       "    <tr>\n",
       "      <th>1</th>\n",
       "      <td>What kind of caulk should I use around my bath...</td>\n",
       "      <td>I would like to recaulk between the bathtub an...</td>\n",
       "      <td>caulking bathroom</td>\n",
       "      <td>1</td>\n",
       "    </tr>\n",
       "    <tr>\n",
       "      <th>2</th>\n",
       "      <td>Is fiberglass mesh tape a good choice for dryw...</td>\n",
       "      <td>I'm going to be doing some drywalling shortly ...</td>\n",
       "      <td>drywall</td>\n",
       "      <td>1</td>\n",
       "    </tr>\n",
       "    <tr>\n",
       "      <th>3</th>\n",
       "      <td>Are there ways to determine if a wall is load ...</td>\n",
       "      <td>Other than looking up blue prints, which many ...</td>\n",
       "      <td>walls load-bearing structural</td>\n",
       "      <td>1</td>\n",
       "    </tr>\n",
       "    <tr>\n",
       "      <th>4</th>\n",
       "      <td>How do I safely replace a worn out electrical ...</td>\n",
       "      <td>I have a number of outlets that are old and wo...</td>\n",
       "      <td>repair electrical</td>\n",
       "      <td>1</td>\n",
       "    </tr>\n",
       "  </tbody>\n",
       "</table>\n",
       "</div>"
      ],
      "text/plain": [
       "                                               title  \\\n",
       "0  How do I install a new, non load bearing wall ...   \n",
       "1  What kind of caulk should I use around my bath...   \n",
       "2  Is fiberglass mesh tape a good choice for dryw...   \n",
       "3  Are there ways to determine if a wall is load ...   \n",
       "4  How do I safely replace a worn out electrical ...   \n",
       "\n",
       "                                                text  \\\n",
       "0  I'm looking to finish my basement and simply w...   \n",
       "1  I would like to recaulk between the bathtub an...   \n",
       "2  I'm going to be doing some drywalling shortly ...   \n",
       "3  Other than looking up blue prints, which many ...   \n",
       "4  I have a number of outlets that are old and wo...   \n",
       "\n",
       "                            tags  is_diy  \n",
       "0  remodeling basement carpentry       1  \n",
       "1              caulking bathroom       1  \n",
       "2                        drywall       1  \n",
       "3  walls load-bearing structural       1  \n",
       "4              repair electrical       1  "
      ]
     },
     "execution_count": 14,
     "metadata": {},
     "output_type": "execute_result"
    }
   ],
   "source": [
    "diy.head()"
   ]
  },
  {
   "cell_type": "code",
   "execution_count": 15,
   "metadata": {
    "collapsed": false
   },
   "outputs": [
    {
     "data": {
      "text/html": [
       "<div>\n",
       "<table border=\"1\" class=\"dataframe\">\n",
       "  <thead>\n",
       "    <tr style=\"text-align: right;\">\n",
       "      <th></th>\n",
       "      <th>title</th>\n",
       "      <th>text</th>\n",
       "      <th>tags</th>\n",
       "      <th>is_robotics</th>\n",
       "    </tr>\n",
       "  </thead>\n",
       "  <tbody>\n",
       "    <tr>\n",
       "      <th>0</th>\n",
       "      <td>What is the right approach to write the spin c...</td>\n",
       "      <td>Imagine programming a 3 wheel soccer robot. Wh...</td>\n",
       "      <td>soccer control</td>\n",
       "      <td>1</td>\n",
       "    </tr>\n",
       "    <tr>\n",
       "      <th>1</th>\n",
       "      <td>How can I modify a low cost hobby servo to run...</td>\n",
       "      <td>I've got some hobby servos (Power HD 1501MGs) ...</td>\n",
       "      <td>control rcservo</td>\n",
       "      <td>1</td>\n",
       "    </tr>\n",
       "    <tr>\n",
       "      <th>2</th>\n",
       "      <td>What useful gaits exist for a six legged robot...</td>\n",
       "      <td>http://www.oricomtech.com/projects/leg-time.ht...</td>\n",
       "      <td>gait walk</td>\n",
       "      <td>1</td>\n",
       "    </tr>\n",
       "    <tr>\n",
       "      <th>3</th>\n",
       "      <td>Good Microcontrollers/SOCs for a Robotics Project</td>\n",
       "      <td>I am looking for a starting point for my proje...</td>\n",
       "      <td>microcontroller arduino raspberry-pi</td>\n",
       "      <td>1</td>\n",
       "    </tr>\n",
       "    <tr>\n",
       "      <th>4</th>\n",
       "      <td>Nearest-neighbor data structure for non-Euclid...</td>\n",
       "      <td>I'm trying to implement a nearest-neighbor str...</td>\n",
       "      <td>motion-planning rrt</td>\n",
       "      <td>1</td>\n",
       "    </tr>\n",
       "  </tbody>\n",
       "</table>\n",
       "</div>"
      ],
      "text/plain": [
       "                                               title  \\\n",
       "0  What is the right approach to write the spin c...   \n",
       "1  How can I modify a low cost hobby servo to run...   \n",
       "2  What useful gaits exist for a six legged robot...   \n",
       "3  Good Microcontrollers/SOCs for a Robotics Project   \n",
       "4  Nearest-neighbor data structure for non-Euclid...   \n",
       "\n",
       "                                                text  \\\n",
       "0  Imagine programming a 3 wheel soccer robot. Wh...   \n",
       "1  I've got some hobby servos (Power HD 1501MGs) ...   \n",
       "2  http://www.oricomtech.com/projects/leg-time.ht...   \n",
       "3  I am looking for a starting point for my proje...   \n",
       "4  I'm trying to implement a nearest-neighbor str...   \n",
       "\n",
       "                                   tags  is_robotics  \n",
       "0                        soccer control            1  \n",
       "1                       control rcservo            1  \n",
       "2                             gait walk            1  \n",
       "3  microcontroller arduino raspberry-pi            1  \n",
       "4                   motion-planning rrt            1  "
      ]
     },
     "execution_count": 15,
     "metadata": {},
     "output_type": "execute_result"
    }
   ],
   "source": [
    "robotics.head()"
   ]
  },
  {
   "cell_type": "code",
   "execution_count": 16,
   "metadata": {
    "collapsed": false
   },
   "outputs": [
    {
     "data": {
      "text/html": [
       "<div>\n",
       "<table border=\"1\" class=\"dataframe\">\n",
       "  <thead>\n",
       "    <tr style=\"text-align: right;\">\n",
       "      <th></th>\n",
       "      <th>title</th>\n",
       "      <th>text</th>\n",
       "      <th>tags</th>\n",
       "      <th>is_travel</th>\n",
       "    </tr>\n",
       "  </thead>\n",
       "  <tbody>\n",
       "    <tr>\n",
       "      <th>0</th>\n",
       "      <td>What are some Caribbean cruises for October?</td>\n",
       "      <td>My fiancée and I are looking for a good Caribb...</td>\n",
       "      <td>caribbean cruising vacations</td>\n",
       "      <td>1</td>\n",
       "    </tr>\n",
       "    <tr>\n",
       "      <th>1</th>\n",
       "      <td>How can I find a guide that will take me safel...</td>\n",
       "      <td>This was one of our definition questions, but ...</td>\n",
       "      <td>guides extreme-tourism amazon-river amazon-jungle</td>\n",
       "      <td>1</td>\n",
       "    </tr>\n",
       "    <tr>\n",
       "      <th>2</th>\n",
       "      <td>Does Singapore Airlines offer any reward seats...</td>\n",
       "      <td>Singapore Airlines has an all-business class f...</td>\n",
       "      <td>loyalty-programs routes ewr singapore-airlines...</td>\n",
       "      <td>1</td>\n",
       "    </tr>\n",
       "    <tr>\n",
       "      <th>3</th>\n",
       "      <td>What is the easiest transportation to use thro...</td>\n",
       "      <td>Another definition question that interested me...</td>\n",
       "      <td>romania transportation</td>\n",
       "      <td>1</td>\n",
       "    </tr>\n",
       "    <tr>\n",
       "      <th>4</th>\n",
       "      <td>How can I visit Antarctica?</td>\n",
       "      <td>A year ago I was reading some magazine, and fo...</td>\n",
       "      <td>extreme-tourism antarctica</td>\n",
       "      <td>1</td>\n",
       "    </tr>\n",
       "  </tbody>\n",
       "</table>\n",
       "</div>"
      ],
      "text/plain": [
       "                                               title  \\\n",
       "0       What are some Caribbean cruises for October?   \n",
       "1  How can I find a guide that will take me safel...   \n",
       "2  Does Singapore Airlines offer any reward seats...   \n",
       "3  What is the easiest transportation to use thro...   \n",
       "4                        How can I visit Antarctica?   \n",
       "\n",
       "                                                text  \\\n",
       "0  My fiancée and I are looking for a good Caribb...   \n",
       "1  This was one of our definition questions, but ...   \n",
       "2  Singapore Airlines has an all-business class f...   \n",
       "3  Another definition question that interested me...   \n",
       "4  A year ago I was reading some magazine, and fo...   \n",
       "\n",
       "                                                tags  is_travel  \n",
       "0                       caribbean cruising vacations          1  \n",
       "1  guides extreme-tourism amazon-river amazon-jungle          1  \n",
       "2  loyalty-programs routes ewr singapore-airlines...          1  \n",
       "3                             romania transportation          1  \n",
       "4                         extreme-tourism antarctica          1  "
      ]
     },
     "execution_count": 16,
     "metadata": {},
     "output_type": "execute_result"
    }
   ],
   "source": [
    "travel.head()"
   ]
  },
  {
   "cell_type": "code",
   "execution_count": 17,
   "metadata": {
    "collapsed": true
   },
   "outputs": [],
   "source": [
    "tables = [biology, cooking, crypto, diy, robotics, travel]"
   ]
  },
  {
   "cell_type": "code",
   "execution_count": 18,
   "metadata": {
    "collapsed": true
   },
   "outputs": [],
   "source": [
    "df = pd.concat(tables)"
   ]
  },
  {
   "cell_type": "code",
   "execution_count": 19,
   "metadata": {
    "collapsed": false
   },
   "outputs": [
    {
     "data": {
      "text/html": [
       "<div>\n",
       "<table border=\"1\" class=\"dataframe\">\n",
       "  <thead>\n",
       "    <tr style=\"text-align: right;\">\n",
       "      <th></th>\n",
       "      <th>is_biology</th>\n",
       "      <th>is_cooking</th>\n",
       "      <th>is_crypto</th>\n",
       "      <th>is_diy</th>\n",
       "      <th>is_robotics</th>\n",
       "      <th>is_travel</th>\n",
       "      <th>tags</th>\n",
       "      <th>text</th>\n",
       "      <th>title</th>\n",
       "    </tr>\n",
       "  </thead>\n",
       "  <tbody>\n",
       "    <tr>\n",
       "      <th>0</th>\n",
       "      <td>1.0</td>\n",
       "      <td>NaN</td>\n",
       "      <td>NaN</td>\n",
       "      <td>NaN</td>\n",
       "      <td>NaN</td>\n",
       "      <td>NaN</td>\n",
       "      <td>ribosome binding-sites translation synthetic-b...</td>\n",
       "      <td>In prokaryotic translation, how critical for e...</td>\n",
       "      <td>What is the criticality of the ribosome bindin...</td>\n",
       "    </tr>\n",
       "    <tr>\n",
       "      <th>1</th>\n",
       "      <td>1.0</td>\n",
       "      <td>NaN</td>\n",
       "      <td>NaN</td>\n",
       "      <td>NaN</td>\n",
       "      <td>NaN</td>\n",
       "      <td>NaN</td>\n",
       "      <td>rna biochemistry</td>\n",
       "      <td>Does anyone have any suggestions to prevent RN...</td>\n",
       "      <td>How is RNAse contamination in RNA based experi...</td>\n",
       "    </tr>\n",
       "    <tr>\n",
       "      <th>2</th>\n",
       "      <td>1.0</td>\n",
       "      <td>NaN</td>\n",
       "      <td>NaN</td>\n",
       "      <td>NaN</td>\n",
       "      <td>NaN</td>\n",
       "      <td>NaN</td>\n",
       "      <td>immunology cell-biology hematology</td>\n",
       "      <td>Tortora writes in Principles of Anatomy and Ph...</td>\n",
       "      <td>Are lymphocyte sizes clustered in two groups?</td>\n",
       "    </tr>\n",
       "    <tr>\n",
       "      <th>3</th>\n",
       "      <td>1.0</td>\n",
       "      <td>NaN</td>\n",
       "      <td>NaN</td>\n",
       "      <td>NaN</td>\n",
       "      <td>NaN</td>\n",
       "      <td>NaN</td>\n",
       "      <td>cell-culture</td>\n",
       "      <td>Various people in our lab will prepare a liter...</td>\n",
       "      <td>How long does antibiotic-dosed LB maintain goo...</td>\n",
       "    </tr>\n",
       "    <tr>\n",
       "      <th>4</th>\n",
       "      <td>1.0</td>\n",
       "      <td>NaN</td>\n",
       "      <td>NaN</td>\n",
       "      <td>NaN</td>\n",
       "      <td>NaN</td>\n",
       "      <td>NaN</td>\n",
       "      <td>splicing mrna spliceosome introns exons</td>\n",
       "      <td>Are there any cases in which the splicing mach...</td>\n",
       "      <td>Is exon order always preserved in splicing?</td>\n",
       "    </tr>\n",
       "  </tbody>\n",
       "</table>\n",
       "</div>"
      ],
      "text/plain": [
       "   is_biology  is_cooking  is_crypto  is_diy  is_robotics  is_travel  \\\n",
       "0         1.0         NaN        NaN     NaN          NaN        NaN   \n",
       "1         1.0         NaN        NaN     NaN          NaN        NaN   \n",
       "2         1.0         NaN        NaN     NaN          NaN        NaN   \n",
       "3         1.0         NaN        NaN     NaN          NaN        NaN   \n",
       "4         1.0         NaN        NaN     NaN          NaN        NaN   \n",
       "\n",
       "                                                tags  \\\n",
       "0  ribosome binding-sites translation synthetic-b...   \n",
       "1                                   rna biochemistry   \n",
       "2                 immunology cell-biology hematology   \n",
       "3                                       cell-culture   \n",
       "4            splicing mrna spliceosome introns exons   \n",
       "\n",
       "                                                text  \\\n",
       "0  In prokaryotic translation, how critical for e...   \n",
       "1  Does anyone have any suggestions to prevent RN...   \n",
       "2  Tortora writes in Principles of Anatomy and Ph...   \n",
       "3  Various people in our lab will prepare a liter...   \n",
       "4  Are there any cases in which the splicing mach...   \n",
       "\n",
       "                                               title  \n",
       "0  What is the criticality of the ribosome bindin...  \n",
       "1  How is RNAse contamination in RNA based experi...  \n",
       "2      Are lymphocyte sizes clustered in two groups?  \n",
       "3  How long does antibiotic-dosed LB maintain goo...  \n",
       "4        Is exon order always preserved in splicing?  "
      ]
     },
     "execution_count": 19,
     "metadata": {},
     "output_type": "execute_result"
    }
   ],
   "source": [
    "df.head()"
   ]
  },
  {
   "cell_type": "code",
   "execution_count": 20,
   "metadata": {
    "collapsed": true
   },
   "outputs": [],
   "source": [
    "df.fillna(0, inplace=True)"
   ]
  },
  {
   "cell_type": "code",
   "execution_count": 21,
   "metadata": {
    "collapsed": false
   },
   "outputs": [
    {
     "data": {
      "text/html": [
       "<div>\n",
       "<table border=\"1\" class=\"dataframe\">\n",
       "  <thead>\n",
       "    <tr style=\"text-align: right;\">\n",
       "      <th></th>\n",
       "      <th>is_biology</th>\n",
       "      <th>is_cooking</th>\n",
       "      <th>is_crypto</th>\n",
       "      <th>is_diy</th>\n",
       "      <th>is_robotics</th>\n",
       "      <th>is_travel</th>\n",
       "      <th>tags</th>\n",
       "      <th>text</th>\n",
       "      <th>title</th>\n",
       "    </tr>\n",
       "  </thead>\n",
       "  <tbody>\n",
       "    <tr>\n",
       "      <th>0</th>\n",
       "      <td>1.0</td>\n",
       "      <td>0.0</td>\n",
       "      <td>0.0</td>\n",
       "      <td>0.0</td>\n",
       "      <td>0.0</td>\n",
       "      <td>0.0</td>\n",
       "      <td>ribosome binding-sites translation synthetic-b...</td>\n",
       "      <td>In prokaryotic translation, how critical for e...</td>\n",
       "      <td>What is the criticality of the ribosome bindin...</td>\n",
       "    </tr>\n",
       "    <tr>\n",
       "      <th>1</th>\n",
       "      <td>1.0</td>\n",
       "      <td>0.0</td>\n",
       "      <td>0.0</td>\n",
       "      <td>0.0</td>\n",
       "      <td>0.0</td>\n",
       "      <td>0.0</td>\n",
       "      <td>rna biochemistry</td>\n",
       "      <td>Does anyone have any suggestions to prevent RN...</td>\n",
       "      <td>How is RNAse contamination in RNA based experi...</td>\n",
       "    </tr>\n",
       "    <tr>\n",
       "      <th>2</th>\n",
       "      <td>1.0</td>\n",
       "      <td>0.0</td>\n",
       "      <td>0.0</td>\n",
       "      <td>0.0</td>\n",
       "      <td>0.0</td>\n",
       "      <td>0.0</td>\n",
       "      <td>immunology cell-biology hematology</td>\n",
       "      <td>Tortora writes in Principles of Anatomy and Ph...</td>\n",
       "      <td>Are lymphocyte sizes clustered in two groups?</td>\n",
       "    </tr>\n",
       "    <tr>\n",
       "      <th>3</th>\n",
       "      <td>1.0</td>\n",
       "      <td>0.0</td>\n",
       "      <td>0.0</td>\n",
       "      <td>0.0</td>\n",
       "      <td>0.0</td>\n",
       "      <td>0.0</td>\n",
       "      <td>cell-culture</td>\n",
       "      <td>Various people in our lab will prepare a liter...</td>\n",
       "      <td>How long does antibiotic-dosed LB maintain goo...</td>\n",
       "    </tr>\n",
       "    <tr>\n",
       "      <th>4</th>\n",
       "      <td>1.0</td>\n",
       "      <td>0.0</td>\n",
       "      <td>0.0</td>\n",
       "      <td>0.0</td>\n",
       "      <td>0.0</td>\n",
       "      <td>0.0</td>\n",
       "      <td>splicing mrna spliceosome introns exons</td>\n",
       "      <td>Are there any cases in which the splicing mach...</td>\n",
       "      <td>Is exon order always preserved in splicing?</td>\n",
       "    </tr>\n",
       "  </tbody>\n",
       "</table>\n",
       "</div>"
      ],
      "text/plain": [
       "   is_biology  is_cooking  is_crypto  is_diy  is_robotics  is_travel  \\\n",
       "0         1.0         0.0        0.0     0.0          0.0        0.0   \n",
       "1         1.0         0.0        0.0     0.0          0.0        0.0   \n",
       "2         1.0         0.0        0.0     0.0          0.0        0.0   \n",
       "3         1.0         0.0        0.0     0.0          0.0        0.0   \n",
       "4         1.0         0.0        0.0     0.0          0.0        0.0   \n",
       "\n",
       "                                                tags  \\\n",
       "0  ribosome binding-sites translation synthetic-b...   \n",
       "1                                   rna biochemistry   \n",
       "2                 immunology cell-biology hematology   \n",
       "3                                       cell-culture   \n",
       "4            splicing mrna spliceosome introns exons   \n",
       "\n",
       "                                                text  \\\n",
       "0  In prokaryotic translation, how critical for e...   \n",
       "1  Does anyone have any suggestions to prevent RN...   \n",
       "2  Tortora writes in Principles of Anatomy and Ph...   \n",
       "3  Various people in our lab will prepare a liter...   \n",
       "4  Are there any cases in which the splicing mach...   \n",
       "\n",
       "                                               title  \n",
       "0  What is the criticality of the ribosome bindin...  \n",
       "1  How is RNAse contamination in RNA based experi...  \n",
       "2      Are lymphocyte sizes clustered in two groups?  \n",
       "3  How long does antibiotic-dosed LB maintain goo...  \n",
       "4        Is exon order always preserved in splicing?  "
      ]
     },
     "execution_count": 21,
     "metadata": {},
     "output_type": "execute_result"
    }
   ],
   "source": [
    "df.head()"
   ]
  },
  {
   "cell_type": "code",
   "execution_count": 22,
   "metadata": {
    "collapsed": true
   },
   "outputs": [],
   "source": [
    "df.to_csv('df.csv', encoding='utf-8')"
   ]
  },
  {
   "cell_type": "code",
   "execution_count": 65,
   "metadata": {
    "collapsed": true
   },
   "outputs": [],
   "source": [
    "documents = pd.read_csv('df.csv', index_col=0)"
   ]
  },
  {
   "cell_type": "code",
   "execution_count": 66,
   "metadata": {
    "collapsed": true
   },
   "outputs": [],
   "source": [
    "small_df = documents[:1000]"
   ]
  },
  {
   "cell_type": "code",
   "execution_count": 67,
   "metadata": {
    "collapsed": false
   },
   "outputs": [
    {
     "data": {
      "text/html": [
       "<div>\n",
       "<table border=\"1\" class=\"dataframe\">\n",
       "  <thead>\n",
       "    <tr style=\"text-align: right;\">\n",
       "      <th></th>\n",
       "      <th>is_biology</th>\n",
       "      <th>is_cooking</th>\n",
       "      <th>is_crypto</th>\n",
       "      <th>is_diy</th>\n",
       "      <th>is_robotics</th>\n",
       "      <th>is_travel</th>\n",
       "      <th>tags</th>\n",
       "      <th>text</th>\n",
       "      <th>title</th>\n",
       "    </tr>\n",
       "  </thead>\n",
       "  <tbody>\n",
       "    <tr>\n",
       "      <th>0</th>\n",
       "      <td>1.0</td>\n",
       "      <td>0.0</td>\n",
       "      <td>0.0</td>\n",
       "      <td>0.0</td>\n",
       "      <td>0.0</td>\n",
       "      <td>0.0</td>\n",
       "      <td>ribosome binding-sites translation synthetic-b...</td>\n",
       "      <td>In prokaryotic translation, how critical for e...</td>\n",
       "      <td>What is the criticality of the ribosome bindin...</td>\n",
       "    </tr>\n",
       "    <tr>\n",
       "      <th>1</th>\n",
       "      <td>1.0</td>\n",
       "      <td>0.0</td>\n",
       "      <td>0.0</td>\n",
       "      <td>0.0</td>\n",
       "      <td>0.0</td>\n",
       "      <td>0.0</td>\n",
       "      <td>rna biochemistry</td>\n",
       "      <td>Does anyone have any suggestions to prevent RN...</td>\n",
       "      <td>How is RNAse contamination in RNA based experi...</td>\n",
       "    </tr>\n",
       "    <tr>\n",
       "      <th>2</th>\n",
       "      <td>1.0</td>\n",
       "      <td>0.0</td>\n",
       "      <td>0.0</td>\n",
       "      <td>0.0</td>\n",
       "      <td>0.0</td>\n",
       "      <td>0.0</td>\n",
       "      <td>immunology cell-biology hematology</td>\n",
       "      <td>Tortora writes in Principles of Anatomy and Ph...</td>\n",
       "      <td>Are lymphocyte sizes clustered in two groups?</td>\n",
       "    </tr>\n",
       "    <tr>\n",
       "      <th>3</th>\n",
       "      <td>1.0</td>\n",
       "      <td>0.0</td>\n",
       "      <td>0.0</td>\n",
       "      <td>0.0</td>\n",
       "      <td>0.0</td>\n",
       "      <td>0.0</td>\n",
       "      <td>cell-culture</td>\n",
       "      <td>Various people in our lab will prepare a liter...</td>\n",
       "      <td>How long does antibiotic-dosed LB maintain goo...</td>\n",
       "    </tr>\n",
       "    <tr>\n",
       "      <th>4</th>\n",
       "      <td>1.0</td>\n",
       "      <td>0.0</td>\n",
       "      <td>0.0</td>\n",
       "      <td>0.0</td>\n",
       "      <td>0.0</td>\n",
       "      <td>0.0</td>\n",
       "      <td>splicing mrna spliceosome introns exons</td>\n",
       "      <td>Are there any cases in which the splicing mach...</td>\n",
       "      <td>Is exon order always preserved in splicing?</td>\n",
       "    </tr>\n",
       "  </tbody>\n",
       "</table>\n",
       "</div>"
      ],
      "text/plain": [
       "   is_biology  is_cooking  is_crypto  is_diy  is_robotics  is_travel  \\\n",
       "0         1.0         0.0        0.0     0.0          0.0        0.0   \n",
       "1         1.0         0.0        0.0     0.0          0.0        0.0   \n",
       "2         1.0         0.0        0.0     0.0          0.0        0.0   \n",
       "3         1.0         0.0        0.0     0.0          0.0        0.0   \n",
       "4         1.0         0.0        0.0     0.0          0.0        0.0   \n",
       "\n",
       "                                                tags  \\\n",
       "0  ribosome binding-sites translation synthetic-b...   \n",
       "1                                   rna biochemistry   \n",
       "2                 immunology cell-biology hematology   \n",
       "3                                       cell-culture   \n",
       "4            splicing mrna spliceosome introns exons   \n",
       "\n",
       "                                                text  \\\n",
       "0  In prokaryotic translation, how critical for e...   \n",
       "1  Does anyone have any suggestions to prevent RN...   \n",
       "2  Tortora writes in Principles of Anatomy and Ph...   \n",
       "3  Various people in our lab will prepare a liter...   \n",
       "4  Are there any cases in which the splicing mach...   \n",
       "\n",
       "                                               title  \n",
       "0  What is the criticality of the ribosome bindin...  \n",
       "1  How is RNAse contamination in RNA based experi...  \n",
       "2      Are lymphocyte sizes clustered in two groups?  \n",
       "3  How long does antibiotic-dosed LB maintain goo...  \n",
       "4        Is exon order always preserved in splicing?  "
      ]
     },
     "execution_count": 67,
     "metadata": {},
     "output_type": "execute_result"
    }
   ],
   "source": [
    "small_df.head(5)"
   ]
  },
  {
   "cell_type": "code",
   "execution_count": 50,
   "metadata": {
    "collapsed": false
   },
   "outputs": [
    {
     "data": {
      "text/plain": [
       "1000"
      ]
     },
     "execution_count": 50,
     "metadata": {},
     "output_type": "execute_result"
    }
   ],
   "source": [
    "len(small_df)"
   ]
  },
  {
   "cell_type": "code",
   "execution_count": null,
   "metadata": {
    "collapsed": true
   },
   "outputs": [],
   "source": []
  },
  {
   "cell_type": "markdown",
   "metadata": {
    "collapsed": true
   },
   "source": [
    "# from nltk.corpus import stopwords"
   ]
  },
  {
   "cell_type": "code",
   "execution_count": null,
   "metadata": {
    "collapsed": true
   },
   "outputs": [],
   "source": []
  },
  {
   "cell_type": "code",
   "execution_count": null,
   "metadata": {
    "collapsed": true
   },
   "outputs": [],
   "source": []
  },
  {
   "cell_type": "code",
   "execution_count": 38,
   "metadata": {
    "collapsed": true
   },
   "outputs": [],
   "source": [
    "from sklearn.feature_extraction.text import TfidfVectorizer"
   ]
  },
  {
   "cell_type": "code",
   "execution_count": 53,
   "metadata": {
    "collapsed": false
   },
   "outputs": [],
   "source": [
    "tfv = TfidfVectorizer(stop_words='english')"
   ]
  },
  {
   "cell_type": "code",
   "execution_count": 55,
   "metadata": {
    "collapsed": false
   },
   "outputs": [
    {
     "ename": "AttributeError",
     "evalue": "'list' object has no attribute 'lower'",
     "output_type": "error",
     "traceback": [
      "\u001b[0;31m---------------------------------------------------------------------------\u001b[0m",
      "\u001b[0;31mAttributeError\u001b[0m                            Traceback (most recent call last)",
      "\u001b[0;32m<ipython-input-55-2fa11b0bef4d>\u001b[0m in \u001b[0;36m<module>\u001b[0;34m()\u001b[0m\n\u001b[0;32m----> 1\u001b[0;31m \u001b[0mtfv\u001b[0m\u001b[0;34m.\u001b[0m\u001b[0mfit\u001b[0m\u001b[0;34m(\u001b[0m\u001b[0mdocuments\u001b[0m\u001b[0;34m[\u001b[0m\u001b[0;34m'text'\u001b[0m\u001b[0;34m]\u001b[0m\u001b[0;34m)\u001b[0m\u001b[0;34m\u001b[0m\u001b[0m\n\u001b[0m\u001b[1;32m      2\u001b[0m dftf = pd.DataFrame(tfv.transform(documents['text']).todense(),\n\u001b[1;32m      3\u001b[0m                    columns=tfv.get_feature_names())\n\u001b[1;32m      4\u001b[0m \u001b[0;32mreturn\u001b[0m \u001b[0mdftf\u001b[0m\u001b[0;34m\u001b[0m\u001b[0m\n",
      "\u001b[0;32m/Users/mgnbecker/anaconda2/lib/python2.7/site-packages/sklearn/feature_extraction/text.pyc\u001b[0m in \u001b[0;36mfit\u001b[0;34m(self, raw_documents, y)\u001b[0m\n\u001b[1;32m   1283\u001b[0m         \u001b[0mself\u001b[0m \u001b[0;34m:\u001b[0m \u001b[0mTfidfVectorizer\u001b[0m\u001b[0;34m\u001b[0m\u001b[0m\n\u001b[1;32m   1284\u001b[0m         \"\"\"\n\u001b[0;32m-> 1285\u001b[0;31m         \u001b[0mX\u001b[0m \u001b[0;34m=\u001b[0m \u001b[0msuper\u001b[0m\u001b[0;34m(\u001b[0m\u001b[0mTfidfVectorizer\u001b[0m\u001b[0;34m,\u001b[0m \u001b[0mself\u001b[0m\u001b[0;34m)\u001b[0m\u001b[0;34m.\u001b[0m\u001b[0mfit_transform\u001b[0m\u001b[0;34m(\u001b[0m\u001b[0mraw_documents\u001b[0m\u001b[0;34m)\u001b[0m\u001b[0;34m\u001b[0m\u001b[0m\n\u001b[0m\u001b[1;32m   1286\u001b[0m         \u001b[0mself\u001b[0m\u001b[0;34m.\u001b[0m\u001b[0m_tfidf\u001b[0m\u001b[0;34m.\u001b[0m\u001b[0mfit\u001b[0m\u001b[0;34m(\u001b[0m\u001b[0mX\u001b[0m\u001b[0;34m)\u001b[0m\u001b[0;34m\u001b[0m\u001b[0m\n\u001b[1;32m   1287\u001b[0m         \u001b[0;32mreturn\u001b[0m \u001b[0mself\u001b[0m\u001b[0;34m\u001b[0m\u001b[0m\n",
      "\u001b[0;32m/Users/mgnbecker/anaconda2/lib/python2.7/site-packages/sklearn/feature_extraction/text.pyc\u001b[0m in \u001b[0;36mfit_transform\u001b[0;34m(self, raw_documents, y)\u001b[0m\n\u001b[1;32m    815\u001b[0m \u001b[0;34m\u001b[0m\u001b[0m\n\u001b[1;32m    816\u001b[0m         vocabulary, X = self._count_vocab(raw_documents,\n\u001b[0;32m--> 817\u001b[0;31m                                           self.fixed_vocabulary_)\n\u001b[0m\u001b[1;32m    818\u001b[0m \u001b[0;34m\u001b[0m\u001b[0m\n\u001b[1;32m    819\u001b[0m         \u001b[0;32mif\u001b[0m \u001b[0mself\u001b[0m\u001b[0;34m.\u001b[0m\u001b[0mbinary\u001b[0m\u001b[0;34m:\u001b[0m\u001b[0;34m\u001b[0m\u001b[0m\n",
      "\u001b[0;32m/Users/mgnbecker/anaconda2/lib/python2.7/site-packages/sklearn/feature_extraction/text.pyc\u001b[0m in \u001b[0;36m_count_vocab\u001b[0;34m(self, raw_documents, fixed_vocab)\u001b[0m\n\u001b[1;32m    750\u001b[0m         \u001b[0mindptr\u001b[0m\u001b[0;34m.\u001b[0m\u001b[0mappend\u001b[0m\u001b[0;34m(\u001b[0m\u001b[0;36m0\u001b[0m\u001b[0;34m)\u001b[0m\u001b[0;34m\u001b[0m\u001b[0m\n\u001b[1;32m    751\u001b[0m         \u001b[0;32mfor\u001b[0m \u001b[0mdoc\u001b[0m \u001b[0;32min\u001b[0m \u001b[0mraw_documents\u001b[0m\u001b[0;34m:\u001b[0m\u001b[0;34m\u001b[0m\u001b[0m\n\u001b[0;32m--> 752\u001b[0;31m             \u001b[0;32mfor\u001b[0m \u001b[0mfeature\u001b[0m \u001b[0;32min\u001b[0m \u001b[0manalyze\u001b[0m\u001b[0;34m(\u001b[0m\u001b[0mdoc\u001b[0m\u001b[0;34m)\u001b[0m\u001b[0;34m:\u001b[0m\u001b[0;34m\u001b[0m\u001b[0m\n\u001b[0m\u001b[1;32m    753\u001b[0m                 \u001b[0;32mtry\u001b[0m\u001b[0;34m:\u001b[0m\u001b[0;34m\u001b[0m\u001b[0m\n\u001b[1;32m    754\u001b[0m                     \u001b[0mj_indices\u001b[0m\u001b[0;34m.\u001b[0m\u001b[0mappend\u001b[0m\u001b[0;34m(\u001b[0m\u001b[0mvocabulary\u001b[0m\u001b[0;34m[\u001b[0m\u001b[0mfeature\u001b[0m\u001b[0;34m]\u001b[0m\u001b[0;34m)\u001b[0m\u001b[0;34m\u001b[0m\u001b[0m\n",
      "\u001b[0;32m/Users/mgnbecker/anaconda2/lib/python2.7/site-packages/sklearn/feature_extraction/text.pyc\u001b[0m in \u001b[0;36m<lambda>\u001b[0;34m(doc)\u001b[0m\n\u001b[1;32m    236\u001b[0m \u001b[0;34m\u001b[0m\u001b[0m\n\u001b[1;32m    237\u001b[0m             return lambda doc: self._word_ngrams(\n\u001b[0;32m--> 238\u001b[0;31m                 tokenize(preprocess(self.decode(doc))), stop_words)\n\u001b[0m\u001b[1;32m    239\u001b[0m \u001b[0;34m\u001b[0m\u001b[0m\n\u001b[1;32m    240\u001b[0m         \u001b[0;32melse\u001b[0m\u001b[0;34m:\u001b[0m\u001b[0;34m\u001b[0m\u001b[0m\n",
      "\u001b[0;32m/Users/mgnbecker/anaconda2/lib/python2.7/site-packages/sklearn/feature_extraction/text.pyc\u001b[0m in \u001b[0;36m<lambda>\u001b[0;34m(x)\u001b[0m\n\u001b[1;32m    202\u001b[0m \u001b[0;34m\u001b[0m\u001b[0m\n\u001b[1;32m    203\u001b[0m         \u001b[0;32mif\u001b[0m \u001b[0mself\u001b[0m\u001b[0;34m.\u001b[0m\u001b[0mlowercase\u001b[0m\u001b[0;34m:\u001b[0m\u001b[0;34m\u001b[0m\u001b[0m\n\u001b[0;32m--> 204\u001b[0;31m             \u001b[0;32mreturn\u001b[0m \u001b[0;32mlambda\u001b[0m \u001b[0mx\u001b[0m\u001b[0;34m:\u001b[0m \u001b[0mstrip_accents\u001b[0m\u001b[0;34m(\u001b[0m\u001b[0mx\u001b[0m\u001b[0;34m.\u001b[0m\u001b[0mlower\u001b[0m\u001b[0;34m(\u001b[0m\u001b[0;34m)\u001b[0m\u001b[0;34m)\u001b[0m\u001b[0;34m\u001b[0m\u001b[0m\n\u001b[0m\u001b[1;32m    205\u001b[0m         \u001b[0;32melse\u001b[0m\u001b[0;34m:\u001b[0m\u001b[0;34m\u001b[0m\u001b[0m\n\u001b[1;32m    206\u001b[0m             \u001b[0;32mreturn\u001b[0m \u001b[0mstrip_accents\u001b[0m\u001b[0;34m\u001b[0m\u001b[0m\n",
      "\u001b[0;31mAttributeError\u001b[0m: 'list' object has no attribute 'lower'"
     ]
    }
   ],
   "source": [
    "tfv.fit(documents['text'])\n",
    "dftf = pd.DataFrame(tfv.transform(documents['text']).todense(),\n",
    "                   columns=tfv.get_feature_names())\n",
    "return dftf"
   ]
  },
  {
   "cell_type": "code",
   "execution_count": null,
   "metadata": {
    "collapsed": true
   },
   "outputs": [],
   "source": []
  },
  {
   "cell_type": "code",
   "execution_count": null,
   "metadata": {
    "collapsed": true
   },
   "outputs": [],
   "source": []
  },
  {
   "cell_type": "code",
   "execution_count": null,
   "metadata": {
    "collapsed": true
   },
   "outputs": [],
   "source": []
  },
  {
   "cell_type": "code",
   "execution_count": 44,
   "metadata": {
    "collapsed": true
   },
   "outputs": [],
   "source": [
    "stop = stopwords.words('english')"
   ]
  },
  {
   "cell_type": "code",
   "execution_count": 68,
   "metadata": {
    "collapsed": false
   },
   "outputs": [
    {
     "name": "stderr",
     "output_type": "stream",
     "text": [
      "/Users/mgnbecker/anaconda2/lib/python2.7/site-packages/ipykernel/__main__.py:1: UnicodeWarning: Unicode equal comparison failed to convert both arguments to Unicode - interpreting them as being unequal\n",
      "  if __name__ == '__main__':\n",
      "/Users/mgnbecker/anaconda2/lib/python2.7/site-packages/ipykernel/__main__.py:1: SettingWithCopyWarning: \n",
      "A value is trying to be set on a copy of a slice from a DataFrame.\n",
      "Try using .loc[row_indexer,col_indexer] = value instead\n",
      "\n",
      "See the caveats in the documentation: http://pandas.pydata.org/pandas-docs/stable/indexing.html#indexing-view-versus-copy\n",
      "  if __name__ == '__main__':\n"
     ]
    },
    {
     "data": {
      "text/html": [
       "<div>\n",
       "<table border=\"1\" class=\"dataframe\">\n",
       "  <thead>\n",
       "    <tr style=\"text-align: right;\">\n",
       "      <th></th>\n",
       "      <th>is_biology</th>\n",
       "      <th>is_cooking</th>\n",
       "      <th>is_crypto</th>\n",
       "      <th>is_diy</th>\n",
       "      <th>is_robotics</th>\n",
       "      <th>is_travel</th>\n",
       "      <th>tags</th>\n",
       "      <th>text</th>\n",
       "      <th>title</th>\n",
       "      <th>new_title</th>\n",
       "    </tr>\n",
       "  </thead>\n",
       "  <tbody>\n",
       "    <tr>\n",
       "      <th>0</th>\n",
       "      <td>1.0</td>\n",
       "      <td>0.0</td>\n",
       "      <td>0.0</td>\n",
       "      <td>0.0</td>\n",
       "      <td>0.0</td>\n",
       "      <td>0.0</td>\n",
       "      <td>ribosome binding-sites translation synthetic-b...</td>\n",
       "      <td>In prokaryotic translation, how critical for e...</td>\n",
       "      <td>What is the criticality of the ribosome bindin...</td>\n",
       "      <td>What criticality ribosome binding site relativ...</td>\n",
       "    </tr>\n",
       "    <tr>\n",
       "      <th>1</th>\n",
       "      <td>1.0</td>\n",
       "      <td>0.0</td>\n",
       "      <td>0.0</td>\n",
       "      <td>0.0</td>\n",
       "      <td>0.0</td>\n",
       "      <td>0.0</td>\n",
       "      <td>rna biochemistry</td>\n",
       "      <td>Does anyone have any suggestions to prevent RN...</td>\n",
       "      <td>How is RNAse contamination in RNA based experi...</td>\n",
       "      <td>How RNAse contamination RNA based experiments ...</td>\n",
       "    </tr>\n",
       "    <tr>\n",
       "      <th>2</th>\n",
       "      <td>1.0</td>\n",
       "      <td>0.0</td>\n",
       "      <td>0.0</td>\n",
       "      <td>0.0</td>\n",
       "      <td>0.0</td>\n",
       "      <td>0.0</td>\n",
       "      <td>immunology cell-biology hematology</td>\n",
       "      <td>Tortora writes in Principles of Anatomy and Ph...</td>\n",
       "      <td>Are lymphocyte sizes clustered in two groups?</td>\n",
       "      <td>Are lymphocyte sizes clustered two groups?</td>\n",
       "    </tr>\n",
       "    <tr>\n",
       "      <th>3</th>\n",
       "      <td>1.0</td>\n",
       "      <td>0.0</td>\n",
       "      <td>0.0</td>\n",
       "      <td>0.0</td>\n",
       "      <td>0.0</td>\n",
       "      <td>0.0</td>\n",
       "      <td>cell-culture</td>\n",
       "      <td>Various people in our lab will prepare a liter...</td>\n",
       "      <td>How long does antibiotic-dosed LB maintain goo...</td>\n",
       "      <td>How long antibiotic-dosed LB maintain good sel...</td>\n",
       "    </tr>\n",
       "    <tr>\n",
       "      <th>4</th>\n",
       "      <td>1.0</td>\n",
       "      <td>0.0</td>\n",
       "      <td>0.0</td>\n",
       "      <td>0.0</td>\n",
       "      <td>0.0</td>\n",
       "      <td>0.0</td>\n",
       "      <td>splicing mrna spliceosome introns exons</td>\n",
       "      <td>Are there any cases in which the splicing mach...</td>\n",
       "      <td>Is exon order always preserved in splicing?</td>\n",
       "      <td>Is exon order always preserved splicing?</td>\n",
       "    </tr>\n",
       "  </tbody>\n",
       "</table>\n",
       "</div>"
      ],
      "text/plain": [
       "   is_biology  is_cooking  is_crypto  is_diy  is_robotics  is_travel  \\\n",
       "0         1.0         0.0        0.0     0.0          0.0        0.0   \n",
       "1         1.0         0.0        0.0     0.0          0.0        0.0   \n",
       "2         1.0         0.0        0.0     0.0          0.0        0.0   \n",
       "3         1.0         0.0        0.0     0.0          0.0        0.0   \n",
       "4         1.0         0.0        0.0     0.0          0.0        0.0   \n",
       "\n",
       "                                                tags  \\\n",
       "0  ribosome binding-sites translation synthetic-b...   \n",
       "1                                   rna biochemistry   \n",
       "2                 immunology cell-biology hematology   \n",
       "3                                       cell-culture   \n",
       "4            splicing mrna spliceosome introns exons   \n",
       "\n",
       "                                                text  \\\n",
       "0  In prokaryotic translation, how critical for e...   \n",
       "1  Does anyone have any suggestions to prevent RN...   \n",
       "2  Tortora writes in Principles of Anatomy and Ph...   \n",
       "3  Various people in our lab will prepare a liter...   \n",
       "4  Are there any cases in which the splicing mach...   \n",
       "\n",
       "                                               title  \\\n",
       "0  What is the criticality of the ribosome bindin...   \n",
       "1  How is RNAse contamination in RNA based experi...   \n",
       "2      Are lymphocyte sizes clustered in two groups?   \n",
       "3  How long does antibiotic-dosed LB maintain goo...   \n",
       "4        Is exon order always preserved in splicing?   \n",
       "\n",
       "                                           new_title  \n",
       "0  What criticality ribosome binding site relativ...  \n",
       "1  How RNAse contamination RNA based experiments ...  \n",
       "2         Are lymphocyte sizes clustered two groups?  \n",
       "3  How long antibiotic-dosed LB maintain good sel...  \n",
       "4           Is exon order always preserved splicing?  "
      ]
     },
     "execution_count": 68,
     "metadata": {},
     "output_type": "execute_result"
    }
   ],
   "source": [
    "small_df['new_title'] = small_df['title'].apply(lambda x: ' '.join([item for item in x.split() if item not in stop]))\n",
    "# small_df['text'] = small_df['text'].apply(lambda x: [item for item in x if item not in stop])\n",
    "small_df.head()"
   ]
  },
  {
   "cell_type": "code",
   "execution_count": 52,
   "metadata": {
    "collapsed": false
   },
   "outputs": [
    {
     "data": {
      "text/html": [
       "<div>\n",
       "<table border=\"1\" class=\"dataframe\">\n",
       "  <thead>\n",
       "    <tr style=\"text-align: right;\">\n",
       "      <th></th>\n",
       "      <th>is_biology</th>\n",
       "      <th>is_cooking</th>\n",
       "      <th>is_crypto</th>\n",
       "      <th>is_diy</th>\n",
       "      <th>is_robotics</th>\n",
       "      <th>is_travel</th>\n",
       "      <th>tags</th>\n",
       "      <th>text</th>\n",
       "      <th>title</th>\n",
       "    </tr>\n",
       "  </thead>\n",
       "  <tbody>\n",
       "    <tr>\n",
       "      <th>0</th>\n",
       "      <td>1.0</td>\n",
       "      <td>0.0</td>\n",
       "      <td>0.0</td>\n",
       "      <td>0.0</td>\n",
       "      <td>0.0</td>\n",
       "      <td>0.0</td>\n",
       "      <td>ribosome binding-sites translation synthetic-b...</td>\n",
       "      <td>[I, n,  , p, r, k, r, c,  , r, n, l, n, ,,  , ...</td>\n",
       "      <td>[W, h,  ,  , h, e,  , c, r, c, l,  , f,  , h, ...</td>\n",
       "    </tr>\n",
       "    <tr>\n",
       "      <th>1</th>\n",
       "      <td>1.0</td>\n",
       "      <td>0.0</td>\n",
       "      <td>0.0</td>\n",
       "      <td>0.0</td>\n",
       "      <td>0.0</td>\n",
       "      <td>0.0</td>\n",
       "      <td>rna biochemistry</td>\n",
       "      <td>[D, e,  , n, n, e,  , h, v, e,  , n,  , u, g, ...</td>\n",
       "      <td>[H, w,  ,  , R, N, A, e,  , c, n, n, n,  , n, ...</td>\n",
       "    </tr>\n",
       "    <tr>\n",
       "      <th>2</th>\n",
       "      <td>1.0</td>\n",
       "      <td>0.0</td>\n",
       "      <td>0.0</td>\n",
       "      <td>0.0</td>\n",
       "      <td>0.0</td>\n",
       "      <td>0.0</td>\n",
       "      <td>immunology cell-biology hematology</td>\n",
       "      <td>[T, r, r,  , w, r, e,  , n,  , P, r, n, c, p, ...</td>\n",
       "      <td>[A, r, e,  , l, p, h, c, e,  , z, e,  , c, l, ...</td>\n",
       "    </tr>\n",
       "    <tr>\n",
       "      <th>3</th>\n",
       "      <td>1.0</td>\n",
       "      <td>0.0</td>\n",
       "      <td>0.0</td>\n",
       "      <td>0.0</td>\n",
       "      <td>0.0</td>\n",
       "      <td>0.0</td>\n",
       "      <td>cell-culture</td>\n",
       "      <td>[V, r, u,  , p, e, p, l, e,  , n,  , u, r,  , ...</td>\n",
       "      <td>[H, w,  , l, n, g,  , e,  , n, b, c, -, e,  , ...</td>\n",
       "    </tr>\n",
       "    <tr>\n",
       "      <th>4</th>\n",
       "      <td>1.0</td>\n",
       "      <td>0.0</td>\n",
       "      <td>0.0</td>\n",
       "      <td>0.0</td>\n",
       "      <td>0.0</td>\n",
       "      <td>0.0</td>\n",
       "      <td>splicing mrna spliceosome introns exons</td>\n",
       "      <td>[A, r, e,  , h, e, r, e,  , n,  , c, e,  , n, ...</td>\n",
       "      <td>[I,  , e, x, n,  , r, e, r,  , l, w,  , p, r, ...</td>\n",
       "    </tr>\n",
       "  </tbody>\n",
       "</table>\n",
       "</div>"
      ],
      "text/plain": [
       "   is_biology  is_cooking  is_crypto  is_diy  is_robotics  is_travel  \\\n",
       "0         1.0         0.0        0.0     0.0          0.0        0.0   \n",
       "1         1.0         0.0        0.0     0.0          0.0        0.0   \n",
       "2         1.0         0.0        0.0     0.0          0.0        0.0   \n",
       "3         1.0         0.0        0.0     0.0          0.0        0.0   \n",
       "4         1.0         0.0        0.0     0.0          0.0        0.0   \n",
       "\n",
       "                                                tags  \\\n",
       "0  ribosome binding-sites translation synthetic-b...   \n",
       "1                                   rna biochemistry   \n",
       "2                 immunology cell-biology hematology   \n",
       "3                                       cell-culture   \n",
       "4            splicing mrna spliceosome introns exons   \n",
       "\n",
       "                                                text  \\\n",
       "0  [I, n,  , p, r, k, r, c,  , r, n, l, n, ,,  , ...   \n",
       "1  [D, e,  , n, n, e,  , h, v, e,  , n,  , u, g, ...   \n",
       "2  [T, r, r,  , w, r, e,  , n,  , P, r, n, c, p, ...   \n",
       "3  [V, r, u,  , p, e, p, l, e,  , n,  , u, r,  , ...   \n",
       "4  [A, r, e,  , h, e, r, e,  , n,  , c, e,  , n, ...   \n",
       "\n",
       "                                               title  \n",
       "0  [W, h,  ,  , h, e,  , c, r, c, l,  , f,  , h, ...  \n",
       "1  [H, w,  ,  , R, N, A, e,  , c, n, n, n,  , n, ...  \n",
       "2  [A, r, e,  , l, p, h, c, e,  , z, e,  , c, l, ...  \n",
       "3  [H, w,  , l, n, g,  , e,  , n, b, c, -, e,  , ...  \n",
       "4  [I,  , e, x, n,  , r, e, r,  , l, w,  , p, r, ...  "
      ]
     },
     "execution_count": 52,
     "metadata": {},
     "output_type": "execute_result"
    }
   ],
   "source": [
    "small_df.head()"
   ]
  },
  {
   "cell_type": "code",
   "execution_count": 41,
   "metadata": {
    "collapsed": false
   },
   "outputs": [
    {
     "data": {
      "text/html": [
       "<div>\n",
       "<table border=\"1\" class=\"dataframe\">\n",
       "  <thead>\n",
       "    <tr style=\"text-align: right;\">\n",
       "      <th></th>\n",
       "      <th>is_biology</th>\n",
       "      <th>is_cooking</th>\n",
       "      <th>is_crypto</th>\n",
       "      <th>is_diy</th>\n",
       "      <th>is_robotics</th>\n",
       "      <th>is_travel</th>\n",
       "      <th>tags</th>\n",
       "      <th>text</th>\n",
       "      <th>title</th>\n",
       "    </tr>\n",
       "  </thead>\n",
       "  <tbody>\n",
       "    <tr>\n",
       "      <th>0</th>\n",
       "      <td>1.0</td>\n",
       "      <td>0.0</td>\n",
       "      <td>0.0</td>\n",
       "      <td>0.0</td>\n",
       "      <td>0.0</td>\n",
       "      <td>0.0</td>\n",
       "      <td>ribosome binding-sites translation synthetic-b...</td>\n",
       "      <td>In prokaryotic translation, how critical for e...</td>\n",
       "      <td>What is the criticality of the ribosome bindin...</td>\n",
       "    </tr>\n",
       "    <tr>\n",
       "      <th>1</th>\n",
       "      <td>1.0</td>\n",
       "      <td>0.0</td>\n",
       "      <td>0.0</td>\n",
       "      <td>0.0</td>\n",
       "      <td>0.0</td>\n",
       "      <td>0.0</td>\n",
       "      <td>rna biochemistry</td>\n",
       "      <td>Does anyone have any suggestions to prevent RN...</td>\n",
       "      <td>How is RNAse contamination in RNA based experi...</td>\n",
       "    </tr>\n",
       "  </tbody>\n",
       "</table>\n",
       "</div>"
      ],
      "text/plain": [
       "   is_biology  is_cooking  is_crypto  is_diy  is_robotics  is_travel  \\\n",
       "0         1.0         0.0        0.0     0.0          0.0        0.0   \n",
       "1         1.0         0.0        0.0     0.0          0.0        0.0   \n",
       "\n",
       "                                                tags  \\\n",
       "0  ribosome binding-sites translation synthetic-b...   \n",
       "1                                   rna biochemistry   \n",
       "\n",
       "                                                text  \\\n",
       "0  In prokaryotic translation, how critical for e...   \n",
       "1  Does anyone have any suggestions to prevent RN...   \n",
       "\n",
       "                                               title  \n",
       "0  What is the criticality of the ribosome bindin...  \n",
       "1  How is RNAse contamination in RNA based experi...  "
      ]
     },
     "execution_count": 41,
     "metadata": {},
     "output_type": "execute_result"
    }
   ],
   "source": [
    "documents.head(2)"
   ]
  },
  {
   "cell_type": "code",
   "execution_count": 27,
   "metadata": {
    "collapsed": false
   },
   "outputs": [
    {
     "name": "stdout",
     "output_type": "stream",
     "text": [
      "       is_biology  is_cooking  is_crypto  is_diy  is_robotics  is_travel  \\\n",
      "0             1.0         0.0        0.0     0.0          0.0        0.0   \n",
      "1             1.0         0.0        0.0     0.0          0.0        0.0   \n",
      "2             1.0         0.0        0.0     0.0          0.0        0.0   \n",
      "3             1.0         0.0        0.0     0.0          0.0        0.0   \n",
      "4             1.0         0.0        0.0     0.0          0.0        0.0   \n",
      "5             1.0         0.0        0.0     0.0          0.0        0.0   \n",
      "6             1.0         0.0        0.0     0.0          0.0        0.0   \n",
      "7             1.0         0.0        0.0     0.0          0.0        0.0   \n",
      "8             1.0         0.0        0.0     0.0          0.0        0.0   \n",
      "9             1.0         0.0        0.0     0.0          0.0        0.0   \n",
      "10            1.0         0.0        0.0     0.0          0.0        0.0   \n",
      "11            1.0         0.0        0.0     0.0          0.0        0.0   \n",
      "12            1.0         0.0        0.0     0.0          0.0        0.0   \n",
      "13            1.0         0.0        0.0     0.0          0.0        0.0   \n",
      "14            1.0         0.0        0.0     0.0          0.0        0.0   \n",
      "15            1.0         0.0        0.0     0.0          0.0        0.0   \n",
      "16            1.0         0.0        0.0     0.0          0.0        0.0   \n",
      "17            1.0         0.0        0.0     0.0          0.0        0.0   \n",
      "18            1.0         0.0        0.0     0.0          0.0        0.0   \n",
      "19            1.0         0.0        0.0     0.0          0.0        0.0   \n",
      "20            1.0         0.0        0.0     0.0          0.0        0.0   \n",
      "21            1.0         0.0        0.0     0.0          0.0        0.0   \n",
      "22            1.0         0.0        0.0     0.0          0.0        0.0   \n",
      "23            1.0         0.0        0.0     0.0          0.0        0.0   \n",
      "24            1.0         0.0        0.0     0.0          0.0        0.0   \n",
      "25            1.0         0.0        0.0     0.0          0.0        0.0   \n",
      "26            1.0         0.0        0.0     0.0          0.0        0.0   \n",
      "27            1.0         0.0        0.0     0.0          0.0        0.0   \n",
      "28            1.0         0.0        0.0     0.0          0.0        0.0   \n",
      "29            1.0         0.0        0.0     0.0          0.0        0.0   \n",
      "...           ...         ...        ...     ...          ...        ...   \n",
      "19249         0.0         0.0        0.0     0.0          0.0        1.0   \n",
      "19250         0.0         0.0        0.0     0.0          0.0        1.0   \n",
      "19251         0.0         0.0        0.0     0.0          0.0        1.0   \n",
      "19252         0.0         0.0        0.0     0.0          0.0        1.0   \n",
      "19253         0.0         0.0        0.0     0.0          0.0        1.0   \n",
      "19254         0.0         0.0        0.0     0.0          0.0        1.0   \n",
      "19255         0.0         0.0        0.0     0.0          0.0        1.0   \n",
      "19256         0.0         0.0        0.0     0.0          0.0        1.0   \n",
      "19257         0.0         0.0        0.0     0.0          0.0        1.0   \n",
      "19258         0.0         0.0        0.0     0.0          0.0        1.0   \n",
      "19259         0.0         0.0        0.0     0.0          0.0        1.0   \n",
      "19260         0.0         0.0        0.0     0.0          0.0        1.0   \n",
      "19261         0.0         0.0        0.0     0.0          0.0        1.0   \n",
      "19262         0.0         0.0        0.0     0.0          0.0        1.0   \n",
      "19263         0.0         0.0        0.0     0.0          0.0        1.0   \n",
      "19264         0.0         0.0        0.0     0.0          0.0        1.0   \n",
      "19265         0.0         0.0        0.0     0.0          0.0        1.0   \n",
      "19266         0.0         0.0        0.0     0.0          0.0        1.0   \n",
      "19267         0.0         0.0        0.0     0.0          0.0        1.0   \n",
      "19268         0.0         0.0        0.0     0.0          0.0        1.0   \n",
      "19269         0.0         0.0        0.0     0.0          0.0        1.0   \n",
      "19270         0.0         0.0        0.0     0.0          0.0        1.0   \n",
      "19271         0.0         0.0        0.0     0.0          0.0        1.0   \n",
      "19272         0.0         0.0        0.0     0.0          0.0        1.0   \n",
      "19273         0.0         0.0        0.0     0.0          0.0        1.0   \n",
      "19274         0.0         0.0        0.0     0.0          0.0        1.0   \n",
      "19275         0.0         0.0        0.0     0.0          0.0        1.0   \n",
      "19276         0.0         0.0        0.0     0.0          0.0        1.0   \n",
      "19277         0.0         0.0        0.0     0.0          0.0        1.0   \n",
      "19278         0.0         0.0        0.0     0.0          0.0        1.0   \n",
      "\n",
      "                                                    tags  \\\n",
      "0      ribosome binding-sites translation synthetic-b...   \n",
      "1                                       rna biochemistry   \n",
      "2                     immunology cell-biology hematology   \n",
      "3                                           cell-culture   \n",
      "4                splicing mrna spliceosome introns exons   \n",
      "5                     dna biochemistry molecular-biology   \n",
      "6                                  neuroscience synapses   \n",
      "7                                               plasmids   \n",
      "8      molecular-genetics gene-expression experimenta...   \n",
      "9                    evolution mitochondria chloroplasts   \n",
      "10                            high-throughput cell-based   \n",
      "11                   molecular-biology synthetic-biology   \n",
      "12                               bioinformatics homework   \n",
      "13                               neuroscience immunology   \n",
      "14                                      splicing histone   \n",
      "15                        genomics gene-annotation exons   \n",
      "16                       microbiology virology influenza   \n",
      "17                                           epigenetics   \n",
      "18                       molecular-biology dna-isolation   \n",
      "19                 cell-membrane adaptation cell-biology   \n",
      "20                               transcription chromatin   \n",
      "21                             biochemistry neuroscience   \n",
      "22      molecular-biology transcription rna-interference   \n",
      "23              neuroscience endocrinology human-biology   \n",
      "24                          bioinformatics phylogenetics   \n",
      "25                             splicing introns genetics   \n",
      "26                                      biochemistry rna   \n",
      "27                             microbiology astrobiology   \n",
      "28                                   dna primer genetics   \n",
      "29                     microbiology history bacteriology   \n",
      "...                                                  ...   \n",
      "19249                         canada cellphones software   \n",
      "19250                                   driving-licenses   \n",
      "19251                                     routes romania   \n",
      "19252                                    luggage vueling   \n",
      "19253                 thailand ferries sumatra-indonesia   \n",
      "19254                                  canada cellphones   \n",
      "19255              schengen india application-status vfs   \n",
      "19256  usa customs-and-immigration europe local-custo...   \n",
      "19257               visas schengen france-schengen-visas   \n",
      "19258  usa food-and-drink california recommendations ...   \n",
      "19259                     air-travel usa airline-booking   \n",
      "19260          visas schengen transit ukrainian-citizens   \n",
      "19261                             legal safety souvenirs   \n",
      "19262           airports cellphones south-korea internet   \n",
      "19263                                           visas uk   \n",
      "19264  air-travel electronic-items hand-luggage secur...   \n",
      "19265    indian-citizens germany passport-stamps croatia   \n",
      "19266       germany payment-cards austria czech-republic   \n",
      "19267            air-travel usa lhr dublin pre-clearance   \n",
      "19268  air-travel luggage electronic-items hand-lugga...   \n",
      "19269                       argentina trekking patagonia   \n",
      "19270       india airport-transfer taxis price new-delhi   \n",
      "19271                         india transportation nepal   \n",
      "19272            usa esta us-visa-waiver-program vwp iad   \n",
      "19273     air-travel customs-and-immigration jfk ewr lga   \n",
      "19274  usa food-and-drink california tipping san-fran...   \n",
      "19275                     uk canada france culture gifts   \n",
      "19276  customs-and-immigration officials registration...   \n",
      "19277                                      visas austria   \n",
      "19278                                           untagged   \n",
      "\n",
      "                                                    text  \\\n",
      "0      In prokaryotic translation, how critical for e...   \n",
      "1      Does anyone have any suggestions to prevent RN...   \n",
      "2      Tortora writes in Principles of Anatomy and Ph...   \n",
      "3      Various people in our lab will prepare a liter...   \n",
      "4      Are there any cases in which the splicing mach...   \n",
      "5      I'm interested in sequencing and analyzing the...   \n",
      "6      I'm looking for resources or any information a...   \n",
      "7      I shipped 10 µL of my vector miniprep to a col...   \n",
      "8      I noticed within example experiments in class ...   \n",
      "9      According to the endosymbiont theory, mitochon...   \n",
      "10     In high-throughput experiments where cells are...   \n",
      "11     Has anyone tried the chew back-anneal in vitro...   \n",
      "12     The whole question is  What is the optimal fra...   \n",
      "13     We know from pop science that our psychologica...   \n",
      "14     There are some bioinformatical considerations ...   \n",
      "15     I recently downloaded gene annotations for Hom...   \n",
      "16     What do the strain designations for flu mean? ...   \n",
      "17     I know the basics of epigenetics, but I do not...   \n",
      "18     I'm trying to find a good protocol for plasmid...   \n",
      "19     Are the cells of marine animals and flora equi...   \n",
      "20     I'm looking for data - maybe CHP^2 data that s...   \n",
      "21     Assuming that a longer distance between gaps i...   \n",
      "22     We suspect a bi-directional transcription even...   \n",
      "23     What is the current consensus on whether or no...   \n",
      "24     I understand that both are similar in structur...   \n",
      "25     For predicting genes from a sequenced genome, ...   \n",
      "26     The T7 polymerase doesn't transcribe all seque...   \n",
      "27     The existence of nanometer scale microorganism...   \n",
      "28     I've been thinking about starting a small priv...   \n",
      "29     Once upon a time, I chanced upon an old microb...   \n",
      "...                                                  ...   \n",
      "19249  The Android Contact List (People App) on my ph...   \n",
      "19250  I'm aware of \"reciprocity agreements\" some sta...   \n",
      "19251  I want to travel from Cluj-Napoca to Sighisoar...   \n",
      "19252  I am booking on Vueling and have chosen the Op...   \n",
      "19253  I would like to go to Banda Aceh from Phuket (...   \n",
      "19254  I am an American planning a short trip to Cana...   \n",
      "19255  I just got information from the VFS site that ...   \n",
      "19256  I bought headphones in USA, for ~300$. Should ...   \n",
      "19257  I am very worried and looking for some hope. M...   \n",
      "19258  Is there any good place for pasta in San Franc...   \n",
      "19259  I'm getting really worried as I realized my fi...   \n",
      "19260  My friend was turned away at the airport in Ki...   \n",
      "19261  Considering this surprising answer to the ques...   \n",
      "19262  I want to purchase a mobile prepaid SIM card i...   \n",
      "19263  My Canada visa got rejected in 2014 since I wa...   \n",
      "19264  I want to take my laptop as I need to its rela...   \n",
      "19265  I am an Indian passport holder with a German r...   \n",
      "19266  We are headed to Austria, Germany and the Czec...   \n",
      "19267  I am booking a holiday to LAX from Dublin. The...   \n",
      "19268  I go with Vueling, I am asking about the hand ...   \n",
      "19269  We are a couple of friends (all around 24 year...   \n",
      "19270  I have no idea what prices in India are like. ...   \n",
      "19271  What would be the  best way to move household ...   \n",
      "19272  I'm a Dutch citizen flying to Dulles from Amst...   \n",
      "19273  I'll be flying into NYC from London and I wond...   \n",
      "19274  Being a waiter for some time, I know when one ...   \n",
      "19275  I live in Vancouver, Canada and will be travel...   \n",
      "19276  In Serbia and Macedonia, you have to Register ...   \n",
      "19277  I am in Austria on a Visa D multiple entry, wh...   \n",
      "19278  What is the shortest passenger route served by...   \n",
      "\n",
      "                                                   title  \n",
      "0      What is the criticality of the ribosome bindin...  \n",
      "1      How is RNAse contamination in RNA based experi...  \n",
      "2          Are lymphocyte sizes clustered in two groups?  \n",
      "3      How long does antibiotic-dosed LB maintain goo...  \n",
      "4            Is exon order always preserved in splicing?  \n",
      "5           How can I avoid digesting protein-bound DNA?  \n",
      "6        Under what conditions do dendritic spines form?  \n",
      "7                            How should I ship plasmids?  \n",
      "8      What is the reason behind choosing the reporte...  \n",
      "9                How many times did endosymbiosis occur?  \n",
      "10     How to reduce edge effects in cell-based high-...  \n",
      "11       Has anyone tried Gibson Assembly Optimizations?  \n",
      "12     What is the optimal frame size for protein sec...  \n",
      "13     What are the main mechanisms of interaction be...  \n",
      "14     What are the mechanism binding histone code wi...  \n",
      "15     What are the limiting factors for gene length ...  \n",
      "16      How to understand influenza strain designations?  \n",
      "17     Transmission of epigenetic regulation through ...  \n",
      "18     What is a good miniprep protocol for the class...  \n",
      "19     What specific membrane adaptations do cells ha...  \n",
      "20                     Bacterial chromatin binding data?  \n",
      "21     What limits the maximum spacing of Nodes of Ra...  \n",
      "22               bi-directional transcription experiment  \n",
      "23             Do human beings have pheromone receptors?  \n",
      "24     How can rooted and unrooted (phylogenetic) tre...  \n",
      "25          What are limiting factors for intron length?  \n",
      "26     Which sequence characteristics influence the t...  \n",
      "27     Is there any convincing evidence for the exist...  \n",
      "28     How can you identify if a person is homozygous...  \n",
      "29         Why is there now only one Salmonella species?  \n",
      "...                                                  ...  \n",
      "19249  How to deal with contact numbers while traveling?  \n",
      "19250  From Australia to America driver's license tra...  \n",
      "19251                          Cluj-Napoca to Sighisoara  \n",
      "19252        Vueling bags rules when buying extra weight  \n",
      "19253  Is there a way to go from Phuket to Banda Aceh...  \n",
      "19254               Mobile Data for Short Trip to Canada  \n",
      "19255     Schengen Visa . No response from the Consulate  \n",
      "19256               Greek Customs with Electronic Device  \n",
      "19257                   Called for French Visa interview  \n",
      "19258                            Pasta in San Francisco!  \n",
      "19259  Firstname and lastname reverse on flight ticke...  \n",
      "19260  Ukrainian citizen traveling to U.S.A with a co...  \n",
      "19261  How can I determine if there's a way I can leg...  \n",
      "19262  Can I still purchase 4G/unlimited SIM card onc...  \n",
      "19263  Possibility of getting u k tier 5 visa with pr...  \n",
      "19264  Laptop in hand luggage with qatar airways from...  \n",
      "19265  Croatian entry stamp with no exit stamp: will ...  \n",
      "19266  Will we be required to use a PIN associated wi...  \n",
      "19267  Can I use preclearance for a flight Dublin to ...  \n",
      "19268                             Vueling hand bag rules  \n",
      "19269                               Patagonia in a month  \n",
      "19270  Taxi cost from New Delhi airport to the nearby...  \n",
      "19271  Moving household stuff from Bangalore(India) t...  \n",
      "19272             Using APC kiosk with new ESTA/passport  \n",
      "19273  Which is the NYC airport with the quickest cus...  \n",
      "19274                       Tipping in USA.California.SF  \n",
      "19275  As a Canadian, what are appropriate gifts to b...  \n",
      "19276  Does Macedonian police issue visitors a regist...  \n",
      "19277                 Can my Austrian Visa D be renewed?  \n",
      "19278            Shortest wide-body route from Frankfurt  \n",
      "\n",
      "[87000 rows x 9 columns]\n"
     ]
    }
   ],
   "source": [
    "# from nltk.corpus import stopwords\n",
    "# from nltk.tokenize import wordpunct_tokenize\n",
    "\n",
    "# stop_words = set(stopwords.words('english'))\n",
    "# stop_words.update(['.', ',', '\"', \"'\", '?', '!', ':', ';', '(', ')', '[', ']', '{', '}']) # remove it if you need punctuation \n",
    "\n",
    "# for doc in documents:\n",
    "#     list_of_words = [i.lower() for i in wordpunct_tokenize(doc) if i.lower() not in stop_words]\n",
    "\n",
    "# print documents\n",
    "# ##Here we need to make sure how we want it to be returned"
   ]
  },
  {
   "cell_type": "code",
   "execution_count": 28,
   "metadata": {
    "collapsed": false
   },
   "outputs": [
    {
     "data": {
      "text/html": [
       "<div>\n",
       "<table border=\"1\" class=\"dataframe\">\n",
       "  <thead>\n",
       "    <tr style=\"text-align: right;\">\n",
       "      <th></th>\n",
       "      <th>is_biology</th>\n",
       "      <th>is_cooking</th>\n",
       "      <th>is_crypto</th>\n",
       "      <th>is_diy</th>\n",
       "      <th>is_robotics</th>\n",
       "      <th>is_travel</th>\n",
       "      <th>tags</th>\n",
       "      <th>text</th>\n",
       "      <th>title</th>\n",
       "    </tr>\n",
       "  </thead>\n",
       "  <tbody>\n",
       "    <tr>\n",
       "      <th>0</th>\n",
       "      <td>1.0</td>\n",
       "      <td>0.0</td>\n",
       "      <td>0.0</td>\n",
       "      <td>0.0</td>\n",
       "      <td>0.0</td>\n",
       "      <td>0.0</td>\n",
       "      <td>ribosome binding-sites translation synthetic-b...</td>\n",
       "      <td>In prokaryotic translation, how critical for e...</td>\n",
       "      <td>What is the criticality of the ribosome bindin...</td>\n",
       "    </tr>\n",
       "    <tr>\n",
       "      <th>1</th>\n",
       "      <td>1.0</td>\n",
       "      <td>0.0</td>\n",
       "      <td>0.0</td>\n",
       "      <td>0.0</td>\n",
       "      <td>0.0</td>\n",
       "      <td>0.0</td>\n",
       "      <td>rna biochemistry</td>\n",
       "      <td>Does anyone have any suggestions to prevent RN...</td>\n",
       "      <td>How is RNAse contamination in RNA based experi...</td>\n",
       "    </tr>\n",
       "    <tr>\n",
       "      <th>2</th>\n",
       "      <td>1.0</td>\n",
       "      <td>0.0</td>\n",
       "      <td>0.0</td>\n",
       "      <td>0.0</td>\n",
       "      <td>0.0</td>\n",
       "      <td>0.0</td>\n",
       "      <td>immunology cell-biology hematology</td>\n",
       "      <td>Tortora writes in Principles of Anatomy and Ph...</td>\n",
       "      <td>Are lymphocyte sizes clustered in two groups?</td>\n",
       "    </tr>\n",
       "    <tr>\n",
       "      <th>3</th>\n",
       "      <td>1.0</td>\n",
       "      <td>0.0</td>\n",
       "      <td>0.0</td>\n",
       "      <td>0.0</td>\n",
       "      <td>0.0</td>\n",
       "      <td>0.0</td>\n",
       "      <td>cell-culture</td>\n",
       "      <td>Various people in our lab will prepare a liter...</td>\n",
       "      <td>How long does antibiotic-dosed LB maintain goo...</td>\n",
       "    </tr>\n",
       "    <tr>\n",
       "      <th>4</th>\n",
       "      <td>1.0</td>\n",
       "      <td>0.0</td>\n",
       "      <td>0.0</td>\n",
       "      <td>0.0</td>\n",
       "      <td>0.0</td>\n",
       "      <td>0.0</td>\n",
       "      <td>splicing mrna spliceosome introns exons</td>\n",
       "      <td>Are there any cases in which the splicing mach...</td>\n",
       "      <td>Is exon order always preserved in splicing?</td>\n",
       "    </tr>\n",
       "  </tbody>\n",
       "</table>\n",
       "</div>"
      ],
      "text/plain": [
       "   is_biology  is_cooking  is_crypto  is_diy  is_robotics  is_travel  \\\n",
       "0         1.0         0.0        0.0     0.0          0.0        0.0   \n",
       "1         1.0         0.0        0.0     0.0          0.0        0.0   \n",
       "2         1.0         0.0        0.0     0.0          0.0        0.0   \n",
       "3         1.0         0.0        0.0     0.0          0.0        0.0   \n",
       "4         1.0         0.0        0.0     0.0          0.0        0.0   \n",
       "\n",
       "                                                tags  \\\n",
       "0  ribosome binding-sites translation synthetic-b...   \n",
       "1                                   rna biochemistry   \n",
       "2                 immunology cell-biology hematology   \n",
       "3                                       cell-culture   \n",
       "4            splicing mrna spliceosome introns exons   \n",
       "\n",
       "                                                text  \\\n",
       "0  In prokaryotic translation, how critical for e...   \n",
       "1  Does anyone have any suggestions to prevent RN...   \n",
       "2  Tortora writes in Principles of Anatomy and Ph...   \n",
       "3  Various people in our lab will prepare a liter...   \n",
       "4  Are there any cases in which the splicing mach...   \n",
       "\n",
       "                                               title  \n",
       "0  What is the criticality of the ribosome bindin...  \n",
       "1  How is RNAse contamination in RNA based experi...  \n",
       "2      Are lymphocyte sizes clustered in two groups?  \n",
       "3  How long does antibiotic-dosed LB maintain goo...  \n",
       "4        Is exon order always preserved in splicing?  "
      ]
     },
     "execution_count": 28,
     "metadata": {},
     "output_type": "execute_result"
    }
   ],
   "source": [
    "documents.head()"
   ]
  },
  {
   "cell_type": "code",
   "execution_count": 29,
   "metadata": {
    "collapsed": true
   },
   "outputs": [],
   "source": [
    "# from nltk.stem.porter import PorterStemmer\n",
    "# porter = PorterStemmer()"
   ]
  },
  {
   "cell_type": "code",
   "execution_count": 30,
   "metadata": {
    "collapsed": true
   },
   "outputs": [],
   "source": [
    "from sklearn.cross_validation import train_test_split"
   ]
  },
  {
   "cell_type": "code",
   "execution_count": 31,
   "metadata": {
    "collapsed": false
   },
   "outputs": [],
   "source": [
    "#y=documents['tags']\n",
    "#x=documents.columns(lambda x: if x != ['tags'] else x)\n",
    "x = documents.drop(['tags'], axis=1)\n",
    "y = documents['tags']"
   ]
  },
  {
   "cell_type": "code",
   "execution_count": 32,
   "metadata": {
    "collapsed": true
   },
   "outputs": [],
   "source": [
    "x_train, x_test, y_train, y_test = train_test_split(x,y)"
   ]
  },
  {
   "cell_type": "code",
   "execution_count": 33,
   "metadata": {
    "collapsed": false
   },
   "outputs": [
    {
     "name": "stdout",
     "output_type": "stream",
     "text": [
      "(65250, 8)\n",
      "(65250,)\n",
      "(21750, 8)\n",
      "(21750,)\n"
     ]
    }
   ],
   "source": [
    "print x_train.shape\n",
    "print y_train.shape\n",
    "print x_test.shape\n",
    "print y_test.shape"
   ]
  },
  {
   "cell_type": "code",
   "execution_count": 42,
   "metadata": {
    "collapsed": true
   },
   "outputs": [],
   "source": [
    "#Model is too large, need to train on 10% of data or 1000 rows"
   ]
  },
  {
   "cell_type": "code",
   "execution_count": 34,
   "metadata": {
    "collapsed": true
   },
   "outputs": [],
   "source": [
    "import numpy as np\n",
    "from sklearn.pipeline import Pipeline\n",
    "from sklearn.feature_extraction.text import CountVectorizer\n",
    "from sklearn.svm import LinearSVC\n",
    "from sklearn.feature_extraction.text import TfidfTransformer\n",
    "from sklearn.multiclass import OneVsRestClassifier"
   ]
  },
  {
   "cell_type": "code",
   "execution_count": 35,
   "metadata": {
    "collapsed": false
   },
   "outputs": [
    {
     "data": {
      "text/plain": [
       "Pipeline(steps=[('vectorizer', CountVectorizer(analyzer=u'word', binary=False, decode_error=u'strict',\n",
       "        dtype=<type 'numpy.int64'>, encoding=u'utf-8', input=u'content',\n",
       "        lowercase=True, max_df=2, max_features=None, min_df=1,\n",
       "        ngram_range=(1, 1), preprocessor=None, stop_words=None,\n",
       "      ...('tfidf', TfidfTransformer(norm=u'l2', smooth_idf=True, sublinear_tf=False,\n",
       "         use_idf=True))])"
      ]
     },
     "execution_count": 35,
     "metadata": {},
     "output_type": "execute_result"
    }
   ],
   "source": [
    "# classifier = Pipeline([\n",
    "#     ('vectorizer', CountVectorizer(min_df=1,max_df=2)),\n",
    "#     ('tfidf', TfidfTransformer())])\n",
    "# #     ('clf', OneVsRestClassifier(LinearSVC()))])\n",
    "# classifier.fit(x_train)\n",
    "# #predicted = classifier.predict(x_test)\n",
    "\n",
    "# # classifier = Pipeline([\n",
    "#      #    ('tfidf', TfidfTransformer())])\n",
    "#     # ('clf', OneVsRestClassifier(LinearSVC()))])\n",
    "\n"
   ]
  },
  {
   "cell_type": "code",
   "execution_count": 36,
   "metadata": {
    "collapsed": false
   },
   "outputs": [
    {
     "ename": "NameError",
     "evalue": "name 'predicted' is not defined",
     "output_type": "error",
     "traceback": [
      "\u001b[0;31m---------------------------------------------------------------------------\u001b[0m",
      "\u001b[0;31mNameError\u001b[0m                                 Traceback (most recent call last)",
      "\u001b[0;32m<ipython-input-36-085e2cb00152>\u001b[0m in \u001b[0;36m<module>\u001b[0;34m()\u001b[0m\n\u001b[0;32m----> 1\u001b[0;31m \u001b[0;32mfor\u001b[0m \u001b[0mitem\u001b[0m\u001b[0;34m,\u001b[0m \u001b[0mlabels\u001b[0m \u001b[0;32min\u001b[0m \u001b[0mzip\u001b[0m\u001b[0;34m(\u001b[0m\u001b[0mx_test\u001b[0m\u001b[0;34m,\u001b[0m \u001b[0mpredicted\u001b[0m\u001b[0;34m)\u001b[0m\u001b[0;34m:\u001b[0m\u001b[0;34m\u001b[0m\u001b[0m\n\u001b[0m\u001b[1;32m      2\u001b[0m     \u001b[0;32mprint\u001b[0m \u001b[0;34m'%s => %s'\u001b[0m \u001b[0;34m%\u001b[0m \u001b[0;34m(\u001b[0m\u001b[0mitem\u001b[0m\u001b[0;34m,\u001b[0m \u001b[0;34m', '\u001b[0m\u001b[0;34m.\u001b[0m\u001b[0mjoin\u001b[0m\u001b[0;34m(\u001b[0m\u001b[0my\u001b[0m\u001b[0;34m[\u001b[0m\u001b[0mx\u001b[0m\u001b[0;34m]\u001b[0m \u001b[0;32mfor\u001b[0m \u001b[0mx\u001b[0m \u001b[0;32min\u001b[0m \u001b[0mlabels\u001b[0m\u001b[0;34m)\u001b[0m\u001b[0;34m)\u001b[0m\u001b[0;34m\u001b[0m\u001b[0m\n",
      "\u001b[0;31mNameError\u001b[0m: name 'predicted' is not defined"
     ]
    }
   ],
   "source": [
    "for item, labels in zip(x_test, predicted):\n",
    "    print '%s => %s' % (item, ', '.join(y[x] for x in labels))"
   ]
  },
  {
   "cell_type": "code",
   "execution_count": null,
   "metadata": {
    "collapsed": true
   },
   "outputs": [],
   "source": [
    "from sklearn.ensemble import RandomForestClassifier\n",
    "#Dummy out everything before running RandomForest"
   ]
  },
  {
   "cell_type": "code",
   "execution_count": null,
   "metadata": {
    "collapsed": false
   },
   "outputs": [],
   "source": [
    "rfc = RandomForestClassifier()\n",
    "rfc.fit(x_train,y_train)\n",
    "rfc.score(x_train,y_train)"
   ]
  },
  {
   "cell_type": "code",
   "execution_count": null,
   "metadata": {
    "collapsed": false
   },
   "outputs": [],
   "source": [
    "documents.head(2)"
   ]
  },
  {
   "cell_type": "code",
   "execution_count": null,
   "metadata": {
    "collapsed": true
   },
   "outputs": [],
   "source": []
  }
 ],
 "metadata": {
  "anaconda-cloud": {},
  "kernelspec": {
   "display_name": "Python [Root]",
   "language": "python",
   "name": "Python [Root]"
  },
  "language_info": {
   "codemirror_mode": {
    "name": "ipython",
    "version": 2
   },
   "file_extension": ".py",
   "mimetype": "text/x-python",
   "name": "python",
   "nbconvert_exporter": "python",
   "pygments_lexer": "ipython2",
   "version": "2.7.12"
  }
 },
 "nbformat": 4,
 "nbformat_minor": 0
}
