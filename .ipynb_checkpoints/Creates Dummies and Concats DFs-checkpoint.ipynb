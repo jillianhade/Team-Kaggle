{
 "cells": [
  {
   "cell_type": "code",
   "execution_count": 7,
   "metadata": {
    "collapsed": true
   },
   "outputs": [],
   "source": [
    "import pandas as pd"
   ]
  },
  {
   "cell_type": "code",
   "execution_count": 8,
   "metadata": {
    "collapsed": false
   },
   "outputs": [
    {
     "data": {
      "text/plain": [
       "u'/Users/DRN/Team-Kaggle'"
      ]
     },
     "execution_count": 8,
     "metadata": {},
     "output_type": "execute_result"
    }
   ],
   "source": [
    "pwd"
   ]
  },
  {
   "cell_type": "code",
   "execution_count": 16,
   "metadata": {
    "collapsed": false
   },
   "outputs": [],
   "source": [
    "biology = pd.read_csv('datasets/biology_nohtml.csv', index_col=0)\n",
    "cooking = pd.read_csv('datasets/cooking_nohtml.csv', index_col=0)\n",
    "crypto = pd.read_csv('datasets/crypto_nohtml.csv', index_col=0)\n",
    "diy = pd.read_csv('datasets/diy_nohtml.csv', index_col=0)\n",
    "robotics = pd.read_csv('datasets/robotics_nohtml.csv', index_col=0)\n",
    "travel = pd.read_csv('datasets/travel_nohtml.csv', index_col=0)"
   ]
  },
  {
   "cell_type": "code",
   "execution_count": 18,
   "metadata": {
    "collapsed": false
   },
   "outputs": [
    {
     "data": {
      "text/html": [
       "<div>\n",
       "<table border=\"1\" class=\"dataframe\">\n",
       "  <thead>\n",
       "    <tr style=\"text-align: right;\">\n",
       "      <th></th>\n",
       "      <th>title</th>\n",
       "      <th>text</th>\n",
       "      <th>tags</th>\n",
       "    </tr>\n",
       "  </thead>\n",
       "  <tbody>\n",
       "    <tr>\n",
       "      <th>0</th>\n",
       "      <td>What are the benefits of the two permutation t...</td>\n",
       "      <td>Why do we use a permutation table in the first...</td>\n",
       "      <td>block-cipher des permutation</td>\n",
       "    </tr>\n",
       "    <tr>\n",
       "      <th>1</th>\n",
       "      <td>Why use a 1-2 Oblivious Transfer instead of a ...</td>\n",
       "      <td>When initiating an oblivious transfer, why wou...</td>\n",
       "      <td>oblivious-transfer multiparty-computation func...</td>\n",
       "    </tr>\n",
       "    <tr>\n",
       "      <th>2</th>\n",
       "      <td>Why do we append the length of the message in ...</td>\n",
       "      <td>As we know, SHA-1 is irreversible, so why do w...</td>\n",
       "      <td>sha-1 hash</td>\n",
       "    </tr>\n",
       "    <tr>\n",
       "      <th>3</th>\n",
       "      <td>What is the general justification for the hard...</td>\n",
       "      <td>Since most cryptographic hash functions are si...</td>\n",
       "      <td>hash cryptanalysis preimage-resistance</td>\n",
       "    </tr>\n",
       "    <tr>\n",
       "      <th>4</th>\n",
       "      <td>How can I use asymmetric encryption, such as R...</td>\n",
       "      <td>RSA is not designed to be used on long blocks ...</td>\n",
       "      <td>encryption rsa public-key</td>\n",
       "    </tr>\n",
       "  </tbody>\n",
       "</table>\n",
       "</div>"
      ],
      "text/plain": [
       "                                               title  \\\n",
       "0  What are the benefits of the two permutation t...   \n",
       "1  Why use a 1-2 Oblivious Transfer instead of a ...   \n",
       "2  Why do we append the length of the message in ...   \n",
       "3  What is the general justification for the hard...   \n",
       "4  How can I use asymmetric encryption, such as R...   \n",
       "\n",
       "                                                text  \\\n",
       "0  Why do we use a permutation table in the first...   \n",
       "1  When initiating an oblivious transfer, why wou...   \n",
       "2  As we know, SHA-1 is irreversible, so why do w...   \n",
       "3  Since most cryptographic hash functions are si...   \n",
       "4  RSA is not designed to be used on long blocks ...   \n",
       "\n",
       "                                                tags  \n",
       "0                       block-cipher des permutation  \n",
       "1  oblivious-transfer multiparty-computation func...  \n",
       "2                                         sha-1 hash  \n",
       "3             hash cryptanalysis preimage-resistance  \n",
       "4                          encryption rsa public-key  "
      ]
     },
     "execution_count": 18,
     "metadata": {},
     "output_type": "execute_result"
    }
   ],
   "source": [
    "crypto.head()"
   ]
  },
  {
   "cell_type": "code",
   "execution_count": 19,
   "metadata": {
    "collapsed": true
   },
   "outputs": [],
   "source": [
    "biology['is_biology'] = 1"
   ]
  },
  {
   "cell_type": "code",
   "execution_count": 21,
   "metadata": {
    "collapsed": true
   },
   "outputs": [],
   "source": [
    "cooking['is_cooking'] = 1"
   ]
  },
  {
   "cell_type": "code",
   "execution_count": 24,
   "metadata": {
    "collapsed": true
   },
   "outputs": [],
   "source": [
    "crypto['is_crypto'] = 1"
   ]
  },
  {
   "cell_type": "code",
   "execution_count": 25,
   "metadata": {
    "collapsed": true
   },
   "outputs": [],
   "source": [
    "diy['is_diy'] = 1"
   ]
  },
  {
   "cell_type": "code",
   "execution_count": 26,
   "metadata": {
    "collapsed": true
   },
   "outputs": [],
   "source": [
    "robotics['is_robotics'] = 1"
   ]
  },
  {
   "cell_type": "code",
   "execution_count": 27,
   "metadata": {
    "collapsed": true
   },
   "outputs": [],
   "source": [
    "travel['is_travel'] = 1"
   ]
  },
  {
   "cell_type": "code",
   "execution_count": 28,
   "metadata": {
    "collapsed": false
   },
   "outputs": [
    {
     "data": {
      "text/html": [
       "<div>\n",
       "<table border=\"1\" class=\"dataframe\">\n",
       "  <thead>\n",
       "    <tr style=\"text-align: right;\">\n",
       "      <th></th>\n",
       "      <th>title</th>\n",
       "      <th>text</th>\n",
       "      <th>tags</th>\n",
       "      <th>is_biology</th>\n",
       "    </tr>\n",
       "  </thead>\n",
       "  <tbody>\n",
       "    <tr>\n",
       "      <th>0</th>\n",
       "      <td>What is the criticality of the ribosome bindin...</td>\n",
       "      <td>In prokaryotic translation, how critical for e...</td>\n",
       "      <td>ribosome binding-sites translation synthetic-b...</td>\n",
       "      <td>1</td>\n",
       "    </tr>\n",
       "    <tr>\n",
       "      <th>1</th>\n",
       "      <td>How is RNAse contamination in RNA based experi...</td>\n",
       "      <td>Does anyone have any suggestions to prevent RN...</td>\n",
       "      <td>rna biochemistry</td>\n",
       "      <td>1</td>\n",
       "    </tr>\n",
       "    <tr>\n",
       "      <th>2</th>\n",
       "      <td>Are lymphocyte sizes clustered in two groups?</td>\n",
       "      <td>Tortora writes in Principles of Anatomy and Ph...</td>\n",
       "      <td>immunology cell-biology hematology</td>\n",
       "      <td>1</td>\n",
       "    </tr>\n",
       "    <tr>\n",
       "      <th>3</th>\n",
       "      <td>How long does antibiotic-dosed LB maintain goo...</td>\n",
       "      <td>Various people in our lab will prepare a liter...</td>\n",
       "      <td>cell-culture</td>\n",
       "      <td>1</td>\n",
       "    </tr>\n",
       "    <tr>\n",
       "      <th>4</th>\n",
       "      <td>Is exon order always preserved in splicing?</td>\n",
       "      <td>Are there any cases in which the splicing mach...</td>\n",
       "      <td>splicing mrna spliceosome introns exons</td>\n",
       "      <td>1</td>\n",
       "    </tr>\n",
       "  </tbody>\n",
       "</table>\n",
       "</div>"
      ],
      "text/plain": [
       "                                               title  \\\n",
       "0  What is the criticality of the ribosome bindin...   \n",
       "1  How is RNAse contamination in RNA based experi...   \n",
       "2      Are lymphocyte sizes clustered in two groups?   \n",
       "3  How long does antibiotic-dosed LB maintain goo...   \n",
       "4        Is exon order always preserved in splicing?   \n",
       "\n",
       "                                                text  \\\n",
       "0  In prokaryotic translation, how critical for e...   \n",
       "1  Does anyone have any suggestions to prevent RN...   \n",
       "2  Tortora writes in Principles of Anatomy and Ph...   \n",
       "3  Various people in our lab will prepare a liter...   \n",
       "4  Are there any cases in which the splicing mach...   \n",
       "\n",
       "                                                tags  is_biology  \n",
       "0  ribosome binding-sites translation synthetic-b...           1  \n",
       "1                                   rna biochemistry           1  \n",
       "2                 immunology cell-biology hematology           1  \n",
       "3                                       cell-culture           1  \n",
       "4            splicing mrna spliceosome introns exons           1  "
      ]
     },
     "execution_count": 28,
     "metadata": {},
     "output_type": "execute_result"
    }
   ],
   "source": [
    "biology.head()"
   ]
  },
  {
   "cell_type": "code",
   "execution_count": 29,
   "metadata": {
    "collapsed": false
   },
   "outputs": [
    {
     "data": {
      "text/html": [
       "<div>\n",
       "<table border=\"1\" class=\"dataframe\">\n",
       "  <thead>\n",
       "    <tr style=\"text-align: right;\">\n",
       "      <th></th>\n",
       "      <th>title</th>\n",
       "      <th>text</th>\n",
       "      <th>tags</th>\n",
       "      <th>is_crypto</th>\n",
       "    </tr>\n",
       "  </thead>\n",
       "  <tbody>\n",
       "    <tr>\n",
       "      <th>0</th>\n",
       "      <td>What are the benefits of the two permutation t...</td>\n",
       "      <td>Why do we use a permutation table in the first...</td>\n",
       "      <td>block-cipher des permutation</td>\n",
       "      <td>1</td>\n",
       "    </tr>\n",
       "    <tr>\n",
       "      <th>1</th>\n",
       "      <td>Why use a 1-2 Oblivious Transfer instead of a ...</td>\n",
       "      <td>When initiating an oblivious transfer, why wou...</td>\n",
       "      <td>oblivious-transfer multiparty-computation func...</td>\n",
       "      <td>1</td>\n",
       "    </tr>\n",
       "    <tr>\n",
       "      <th>2</th>\n",
       "      <td>Why do we append the length of the message in ...</td>\n",
       "      <td>As we know, SHA-1 is irreversible, so why do w...</td>\n",
       "      <td>sha-1 hash</td>\n",
       "      <td>1</td>\n",
       "    </tr>\n",
       "    <tr>\n",
       "      <th>3</th>\n",
       "      <td>What is the general justification for the hard...</td>\n",
       "      <td>Since most cryptographic hash functions are si...</td>\n",
       "      <td>hash cryptanalysis preimage-resistance</td>\n",
       "      <td>1</td>\n",
       "    </tr>\n",
       "    <tr>\n",
       "      <th>4</th>\n",
       "      <td>How can I use asymmetric encryption, such as R...</td>\n",
       "      <td>RSA is not designed to be used on long blocks ...</td>\n",
       "      <td>encryption rsa public-key</td>\n",
       "      <td>1</td>\n",
       "    </tr>\n",
       "  </tbody>\n",
       "</table>\n",
       "</div>"
      ],
      "text/plain": [
       "                                               title  \\\n",
       "0  What are the benefits of the two permutation t...   \n",
       "1  Why use a 1-2 Oblivious Transfer instead of a ...   \n",
       "2  Why do we append the length of the message in ...   \n",
       "3  What is the general justification for the hard...   \n",
       "4  How can I use asymmetric encryption, such as R...   \n",
       "\n",
       "                                                text  \\\n",
       "0  Why do we use a permutation table in the first...   \n",
       "1  When initiating an oblivious transfer, why wou...   \n",
       "2  As we know, SHA-1 is irreversible, so why do w...   \n",
       "3  Since most cryptographic hash functions are si...   \n",
       "4  RSA is not designed to be used on long blocks ...   \n",
       "\n",
       "                                                tags  is_crypto  \n",
       "0                       block-cipher des permutation          1  \n",
       "1  oblivious-transfer multiparty-computation func...          1  \n",
       "2                                         sha-1 hash          1  \n",
       "3             hash cryptanalysis preimage-resistance          1  \n",
       "4                          encryption rsa public-key          1  "
      ]
     },
     "execution_count": 29,
     "metadata": {},
     "output_type": "execute_result"
    }
   ],
   "source": [
    "crypto.head()"
   ]
  },
  {
   "cell_type": "code",
   "execution_count": 30,
   "metadata": {
    "collapsed": false
   },
   "outputs": [
    {
     "data": {
      "text/html": [
       "<div>\n",
       "<table border=\"1\" class=\"dataframe\">\n",
       "  <thead>\n",
       "    <tr style=\"text-align: right;\">\n",
       "      <th></th>\n",
       "      <th>title</th>\n",
       "      <th>text</th>\n",
       "      <th>tags</th>\n",
       "      <th>is_cooking</th>\n",
       "    </tr>\n",
       "  </thead>\n",
       "  <tbody>\n",
       "    <tr>\n",
       "      <th>0</th>\n",
       "      <td>How can I get chewy chocolate chip cookies?</td>\n",
       "      <td>My chocolate chips cookies are always too cris...</td>\n",
       "      <td>baking cookies texture</td>\n",
       "      <td>1</td>\n",
       "    </tr>\n",
       "    <tr>\n",
       "      <th>1</th>\n",
       "      <td>How should I cook bacon in an oven?</td>\n",
       "      <td>I've heard of people cooking bacon in an oven ...</td>\n",
       "      <td>oven cooking-time bacon</td>\n",
       "      <td>1</td>\n",
       "    </tr>\n",
       "    <tr>\n",
       "      <th>2</th>\n",
       "      <td>What is the difference between white and brown...</td>\n",
       "      <td>I always use brown extra large eggs, but I can...</td>\n",
       "      <td>eggs</td>\n",
       "      <td>1</td>\n",
       "    </tr>\n",
       "    <tr>\n",
       "      <th>3</th>\n",
       "      <td>What is the difference between baking soda and...</td>\n",
       "      <td>And can I use one in place of the other in cer...</td>\n",
       "      <td>substitutions please-remove-this-tag baking-so...</td>\n",
       "      <td>1</td>\n",
       "    </tr>\n",
       "    <tr>\n",
       "      <th>4</th>\n",
       "      <td>In a tomato sauce recipe, how can I cut the ac...</td>\n",
       "      <td>It seems that every time I make a tomato sauce...</td>\n",
       "      <td>sauce pasta tomatoes italian-cuisine</td>\n",
       "      <td>1</td>\n",
       "    </tr>\n",
       "  </tbody>\n",
       "</table>\n",
       "</div>"
      ],
      "text/plain": [
       "                                               title  \\\n",
       "0        How can I get chewy chocolate chip cookies?   \n",
       "1                How should I cook bacon in an oven?   \n",
       "2  What is the difference between white and brown...   \n",
       "3  What is the difference between baking soda and...   \n",
       "4  In a tomato sauce recipe, how can I cut the ac...   \n",
       "\n",
       "                                                text  \\\n",
       "0  My chocolate chips cookies are always too cris...   \n",
       "1  I've heard of people cooking bacon in an oven ...   \n",
       "2  I always use brown extra large eggs, but I can...   \n",
       "3  And can I use one in place of the other in cer...   \n",
       "4  It seems that every time I make a tomato sauce...   \n",
       "\n",
       "                                                tags  is_cooking  \n",
       "0                             baking cookies texture           1  \n",
       "1                            oven cooking-time bacon           1  \n",
       "2                                               eggs           1  \n",
       "3  substitutions please-remove-this-tag baking-so...           1  \n",
       "4               sauce pasta tomatoes italian-cuisine           1  "
      ]
     },
     "execution_count": 30,
     "metadata": {},
     "output_type": "execute_result"
    }
   ],
   "source": [
    "cooking.head()"
   ]
  },
  {
   "cell_type": "code",
   "execution_count": 31,
   "metadata": {
    "collapsed": false
   },
   "outputs": [
    {
     "data": {
      "text/html": [
       "<div>\n",
       "<table border=\"1\" class=\"dataframe\">\n",
       "  <thead>\n",
       "    <tr style=\"text-align: right;\">\n",
       "      <th></th>\n",
       "      <th>title</th>\n",
       "      <th>text</th>\n",
       "      <th>tags</th>\n",
       "      <th>is_diy</th>\n",
       "    </tr>\n",
       "  </thead>\n",
       "  <tbody>\n",
       "    <tr>\n",
       "      <th>0</th>\n",
       "      <td>How do I install a new, non load bearing wall ...</td>\n",
       "      <td>I'm looking to finish my basement and simply w...</td>\n",
       "      <td>remodeling basement carpentry</td>\n",
       "      <td>1</td>\n",
       "    </tr>\n",
       "    <tr>\n",
       "      <th>1</th>\n",
       "      <td>What kind of caulk should I use around my bath...</td>\n",
       "      <td>I would like to recaulk between the bathtub an...</td>\n",
       "      <td>caulking bathroom</td>\n",
       "      <td>1</td>\n",
       "    </tr>\n",
       "    <tr>\n",
       "      <th>2</th>\n",
       "      <td>Is fiberglass mesh tape a good choice for dryw...</td>\n",
       "      <td>I'm going to be doing some drywalling shortly ...</td>\n",
       "      <td>drywall</td>\n",
       "      <td>1</td>\n",
       "    </tr>\n",
       "    <tr>\n",
       "      <th>3</th>\n",
       "      <td>Are there ways to determine if a wall is load ...</td>\n",
       "      <td>Other than looking up blue prints, which many ...</td>\n",
       "      <td>walls load-bearing structural</td>\n",
       "      <td>1</td>\n",
       "    </tr>\n",
       "    <tr>\n",
       "      <th>4</th>\n",
       "      <td>How do I safely replace a worn out electrical ...</td>\n",
       "      <td>I have a number of outlets that are old and wo...</td>\n",
       "      <td>repair electrical</td>\n",
       "      <td>1</td>\n",
       "    </tr>\n",
       "  </tbody>\n",
       "</table>\n",
       "</div>"
      ],
      "text/plain": [
       "                                               title  \\\n",
       "0  How do I install a new, non load bearing wall ...   \n",
       "1  What kind of caulk should I use around my bath...   \n",
       "2  Is fiberglass mesh tape a good choice for dryw...   \n",
       "3  Are there ways to determine if a wall is load ...   \n",
       "4  How do I safely replace a worn out electrical ...   \n",
       "\n",
       "                                                text  \\\n",
       "0  I'm looking to finish my basement and simply w...   \n",
       "1  I would like to recaulk between the bathtub an...   \n",
       "2  I'm going to be doing some drywalling shortly ...   \n",
       "3  Other than looking up blue prints, which many ...   \n",
       "4  I have a number of outlets that are old and wo...   \n",
       "\n",
       "                            tags  is_diy  \n",
       "0  remodeling basement carpentry       1  \n",
       "1              caulking bathroom       1  \n",
       "2                        drywall       1  \n",
       "3  walls load-bearing structural       1  \n",
       "4              repair electrical       1  "
      ]
     },
     "execution_count": 31,
     "metadata": {},
     "output_type": "execute_result"
    }
   ],
   "source": [
    "diy.head()"
   ]
  },
  {
   "cell_type": "code",
   "execution_count": 32,
   "metadata": {
    "collapsed": false
   },
   "outputs": [
    {
     "data": {
      "text/html": [
       "<div>\n",
       "<table border=\"1\" class=\"dataframe\">\n",
       "  <thead>\n",
       "    <tr style=\"text-align: right;\">\n",
       "      <th></th>\n",
       "      <th>title</th>\n",
       "      <th>text</th>\n",
       "      <th>tags</th>\n",
       "      <th>is_robotics</th>\n",
       "    </tr>\n",
       "  </thead>\n",
       "  <tbody>\n",
       "    <tr>\n",
       "      <th>0</th>\n",
       "      <td>What is the right approach to write the spin c...</td>\n",
       "      <td>Imagine programming a 3 wheel soccer robot. Wh...</td>\n",
       "      <td>soccer control</td>\n",
       "      <td>1</td>\n",
       "    </tr>\n",
       "    <tr>\n",
       "      <th>1</th>\n",
       "      <td>How can I modify a low cost hobby servo to run...</td>\n",
       "      <td>I've got some hobby servos (Power HD 1501MGs) ...</td>\n",
       "      <td>control rcservo</td>\n",
       "      <td>1</td>\n",
       "    </tr>\n",
       "    <tr>\n",
       "      <th>2</th>\n",
       "      <td>What useful gaits exist for a six legged robot...</td>\n",
       "      <td>http://www.oricomtech.com/projects/leg-time.ht...</td>\n",
       "      <td>gait walk</td>\n",
       "      <td>1</td>\n",
       "    </tr>\n",
       "    <tr>\n",
       "      <th>3</th>\n",
       "      <td>Good Microcontrollers/SOCs for a Robotics Project</td>\n",
       "      <td>I am looking for a starting point for my proje...</td>\n",
       "      <td>microcontroller arduino raspberry-pi</td>\n",
       "      <td>1</td>\n",
       "    </tr>\n",
       "    <tr>\n",
       "      <th>4</th>\n",
       "      <td>Nearest-neighbor data structure for non-Euclid...</td>\n",
       "      <td>I'm trying to implement a nearest-neighbor str...</td>\n",
       "      <td>motion-planning rrt</td>\n",
       "      <td>1</td>\n",
       "    </tr>\n",
       "  </tbody>\n",
       "</table>\n",
       "</div>"
      ],
      "text/plain": [
       "                                               title  \\\n",
       "0  What is the right approach to write the spin c...   \n",
       "1  How can I modify a low cost hobby servo to run...   \n",
       "2  What useful gaits exist for a six legged robot...   \n",
       "3  Good Microcontrollers/SOCs for a Robotics Project   \n",
       "4  Nearest-neighbor data structure for non-Euclid...   \n",
       "\n",
       "                                                text  \\\n",
       "0  Imagine programming a 3 wheel soccer robot. Wh...   \n",
       "1  I've got some hobby servos (Power HD 1501MGs) ...   \n",
       "2  http://www.oricomtech.com/projects/leg-time.ht...   \n",
       "3  I am looking for a starting point for my proje...   \n",
       "4  I'm trying to implement a nearest-neighbor str...   \n",
       "\n",
       "                                   tags  is_robotics  \n",
       "0                        soccer control            1  \n",
       "1                       control rcservo            1  \n",
       "2                             gait walk            1  \n",
       "3  microcontroller arduino raspberry-pi            1  \n",
       "4                   motion-planning rrt            1  "
      ]
     },
     "execution_count": 32,
     "metadata": {},
     "output_type": "execute_result"
    }
   ],
   "source": [
    "robotics.head()"
   ]
  },
  {
   "cell_type": "code",
   "execution_count": 33,
   "metadata": {
    "collapsed": false
   },
   "outputs": [
    {
     "data": {
      "text/html": [
       "<div>\n",
       "<table border=\"1\" class=\"dataframe\">\n",
       "  <thead>\n",
       "    <tr style=\"text-align: right;\">\n",
       "      <th></th>\n",
       "      <th>title</th>\n",
       "      <th>text</th>\n",
       "      <th>tags</th>\n",
       "      <th>is_travel</th>\n",
       "    </tr>\n",
       "  </thead>\n",
       "  <tbody>\n",
       "    <tr>\n",
       "      <th>0</th>\n",
       "      <td>What are some Caribbean cruises for October?</td>\n",
       "      <td>My fiancée and I are looking for a good Caribb...</td>\n",
       "      <td>caribbean cruising vacations</td>\n",
       "      <td>1</td>\n",
       "    </tr>\n",
       "    <tr>\n",
       "      <th>1</th>\n",
       "      <td>How can I find a guide that will take me safel...</td>\n",
       "      <td>This was one of our definition questions, but ...</td>\n",
       "      <td>guides extreme-tourism amazon-river amazon-jungle</td>\n",
       "      <td>1</td>\n",
       "    </tr>\n",
       "    <tr>\n",
       "      <th>2</th>\n",
       "      <td>Does Singapore Airlines offer any reward seats...</td>\n",
       "      <td>Singapore Airlines has an all-business class f...</td>\n",
       "      <td>loyalty-programs routes ewr singapore-airlines...</td>\n",
       "      <td>1</td>\n",
       "    </tr>\n",
       "    <tr>\n",
       "      <th>3</th>\n",
       "      <td>What is the easiest transportation to use thro...</td>\n",
       "      <td>Another definition question that interested me...</td>\n",
       "      <td>romania transportation</td>\n",
       "      <td>1</td>\n",
       "    </tr>\n",
       "    <tr>\n",
       "      <th>4</th>\n",
       "      <td>How can I visit Antarctica?</td>\n",
       "      <td>A year ago I was reading some magazine, and fo...</td>\n",
       "      <td>extreme-tourism antarctica</td>\n",
       "      <td>1</td>\n",
       "    </tr>\n",
       "  </tbody>\n",
       "</table>\n",
       "</div>"
      ],
      "text/plain": [
       "                                               title  \\\n",
       "0       What are some Caribbean cruises for October?   \n",
       "1  How can I find a guide that will take me safel...   \n",
       "2  Does Singapore Airlines offer any reward seats...   \n",
       "3  What is the easiest transportation to use thro...   \n",
       "4                        How can I visit Antarctica?   \n",
       "\n",
       "                                                text  \\\n",
       "0  My fiancée and I are looking for a good Caribb...   \n",
       "1  This was one of our definition questions, but ...   \n",
       "2  Singapore Airlines has an all-business class f...   \n",
       "3  Another definition question that interested me...   \n",
       "4  A year ago I was reading some magazine, and fo...   \n",
       "\n",
       "                                                tags  is_travel  \n",
       "0                       caribbean cruising vacations          1  \n",
       "1  guides extreme-tourism amazon-river amazon-jungle          1  \n",
       "2  loyalty-programs routes ewr singapore-airlines...          1  \n",
       "3                             romania transportation          1  \n",
       "4                         extreme-tourism antarctica          1  "
      ]
     },
     "execution_count": 33,
     "metadata": {},
     "output_type": "execute_result"
    }
   ],
   "source": [
    "travel.head()"
   ]
  },
  {
   "cell_type": "code",
   "execution_count": 34,
   "metadata": {
    "collapsed": true
   },
   "outputs": [],
   "source": [
    "tables = [biology, cooking, crypto, diy, robotics, travel]"
   ]
  },
  {
   "cell_type": "code",
   "execution_count": 39,
   "metadata": {
    "collapsed": true
   },
   "outputs": [],
   "source": [
    "df = pd.concat(tables)"
   ]
  },
  {
   "cell_type": "code",
   "execution_count": 40,
   "metadata": {
    "collapsed": false
   },
   "outputs": [
    {
     "data": {
      "text/html": [
       "<div>\n",
       "<table border=\"1\" class=\"dataframe\">\n",
       "  <thead>\n",
       "    <tr style=\"text-align: right;\">\n",
       "      <th></th>\n",
       "      <th>is_biology</th>\n",
       "      <th>is_cooking</th>\n",
       "      <th>is_crypto</th>\n",
       "      <th>is_diy</th>\n",
       "      <th>is_robotics</th>\n",
       "      <th>is_travel</th>\n",
       "      <th>tags</th>\n",
       "      <th>text</th>\n",
       "      <th>title</th>\n",
       "    </tr>\n",
       "  </thead>\n",
       "  <tbody>\n",
       "    <tr>\n",
       "      <th>0</th>\n",
       "      <td>1.0</td>\n",
       "      <td>NaN</td>\n",
       "      <td>NaN</td>\n",
       "      <td>NaN</td>\n",
       "      <td>NaN</td>\n",
       "      <td>NaN</td>\n",
       "      <td>ribosome binding-sites translation synthetic-b...</td>\n",
       "      <td>In prokaryotic translation, how critical for e...</td>\n",
       "      <td>What is the criticality of the ribosome bindin...</td>\n",
       "    </tr>\n",
       "    <tr>\n",
       "      <th>1</th>\n",
       "      <td>1.0</td>\n",
       "      <td>NaN</td>\n",
       "      <td>NaN</td>\n",
       "      <td>NaN</td>\n",
       "      <td>NaN</td>\n",
       "      <td>NaN</td>\n",
       "      <td>rna biochemistry</td>\n",
       "      <td>Does anyone have any suggestions to prevent RN...</td>\n",
       "      <td>How is RNAse contamination in RNA based experi...</td>\n",
       "    </tr>\n",
       "    <tr>\n",
       "      <th>2</th>\n",
       "      <td>1.0</td>\n",
       "      <td>NaN</td>\n",
       "      <td>NaN</td>\n",
       "      <td>NaN</td>\n",
       "      <td>NaN</td>\n",
       "      <td>NaN</td>\n",
       "      <td>immunology cell-biology hematology</td>\n",
       "      <td>Tortora writes in Principles of Anatomy and Ph...</td>\n",
       "      <td>Are lymphocyte sizes clustered in two groups?</td>\n",
       "    </tr>\n",
       "    <tr>\n",
       "      <th>3</th>\n",
       "      <td>1.0</td>\n",
       "      <td>NaN</td>\n",
       "      <td>NaN</td>\n",
       "      <td>NaN</td>\n",
       "      <td>NaN</td>\n",
       "      <td>NaN</td>\n",
       "      <td>cell-culture</td>\n",
       "      <td>Various people in our lab will prepare a liter...</td>\n",
       "      <td>How long does antibiotic-dosed LB maintain goo...</td>\n",
       "    </tr>\n",
       "    <tr>\n",
       "      <th>4</th>\n",
       "      <td>1.0</td>\n",
       "      <td>NaN</td>\n",
       "      <td>NaN</td>\n",
       "      <td>NaN</td>\n",
       "      <td>NaN</td>\n",
       "      <td>NaN</td>\n",
       "      <td>splicing mrna spliceosome introns exons</td>\n",
       "      <td>Are there any cases in which the splicing mach...</td>\n",
       "      <td>Is exon order always preserved in splicing?</td>\n",
       "    </tr>\n",
       "  </tbody>\n",
       "</table>\n",
       "</div>"
      ],
      "text/plain": [
       "   is_biology  is_cooking  is_crypto  is_diy  is_robotics  is_travel  \\\n",
       "0         1.0         NaN        NaN     NaN          NaN        NaN   \n",
       "1         1.0         NaN        NaN     NaN          NaN        NaN   \n",
       "2         1.0         NaN        NaN     NaN          NaN        NaN   \n",
       "3         1.0         NaN        NaN     NaN          NaN        NaN   \n",
       "4         1.0         NaN        NaN     NaN          NaN        NaN   \n",
       "\n",
       "                                                tags  \\\n",
       "0  ribosome binding-sites translation synthetic-b...   \n",
       "1                                   rna biochemistry   \n",
       "2                 immunology cell-biology hematology   \n",
       "3                                       cell-culture   \n",
       "4            splicing mrna spliceosome introns exons   \n",
       "\n",
       "                                                text  \\\n",
       "0  In prokaryotic translation, how critical for e...   \n",
       "1  Does anyone have any suggestions to prevent RN...   \n",
       "2  Tortora writes in Principles of Anatomy and Ph...   \n",
       "3  Various people in our lab will prepare a liter...   \n",
       "4  Are there any cases in which the splicing mach...   \n",
       "\n",
       "                                               title  \n",
       "0  What is the criticality of the ribosome bindin...  \n",
       "1  How is RNAse contamination in RNA based experi...  \n",
       "2      Are lymphocyte sizes clustered in two groups?  \n",
       "3  How long does antibiotic-dosed LB maintain goo...  \n",
       "4        Is exon order always preserved in splicing?  "
      ]
     },
     "execution_count": 40,
     "metadata": {},
     "output_type": "execute_result"
    }
   ],
   "source": [
    "df.head()"
   ]
  },
  {
   "cell_type": "code",
   "execution_count": 41,
   "metadata": {
    "collapsed": true
   },
   "outputs": [],
   "source": [
    "df.fillna(0, inplace=True)"
   ]
  },
  {
   "cell_type": "code",
   "execution_count": 42,
   "metadata": {
    "collapsed": false
   },
   "outputs": [
    {
     "data": {
      "text/html": [
       "<div>\n",
       "<table border=\"1\" class=\"dataframe\">\n",
       "  <thead>\n",
       "    <tr style=\"text-align: right;\">\n",
       "      <th></th>\n",
       "      <th>is_biology</th>\n",
       "      <th>is_cooking</th>\n",
       "      <th>is_crypto</th>\n",
       "      <th>is_diy</th>\n",
       "      <th>is_robotics</th>\n",
       "      <th>is_travel</th>\n",
       "      <th>tags</th>\n",
       "      <th>text</th>\n",
       "      <th>title</th>\n",
       "    </tr>\n",
       "  </thead>\n",
       "  <tbody>\n",
       "    <tr>\n",
       "      <th>0</th>\n",
       "      <td>1.0</td>\n",
       "      <td>0.0</td>\n",
       "      <td>0.0</td>\n",
       "      <td>0.0</td>\n",
       "      <td>0.0</td>\n",
       "      <td>0.0</td>\n",
       "      <td>ribosome binding-sites translation synthetic-b...</td>\n",
       "      <td>In prokaryotic translation, how critical for e...</td>\n",
       "      <td>What is the criticality of the ribosome bindin...</td>\n",
       "    </tr>\n",
       "    <tr>\n",
       "      <th>1</th>\n",
       "      <td>1.0</td>\n",
       "      <td>0.0</td>\n",
       "      <td>0.0</td>\n",
       "      <td>0.0</td>\n",
       "      <td>0.0</td>\n",
       "      <td>0.0</td>\n",
       "      <td>rna biochemistry</td>\n",
       "      <td>Does anyone have any suggestions to prevent RN...</td>\n",
       "      <td>How is RNAse contamination in RNA based experi...</td>\n",
       "    </tr>\n",
       "    <tr>\n",
       "      <th>2</th>\n",
       "      <td>1.0</td>\n",
       "      <td>0.0</td>\n",
       "      <td>0.0</td>\n",
       "      <td>0.0</td>\n",
       "      <td>0.0</td>\n",
       "      <td>0.0</td>\n",
       "      <td>immunology cell-biology hematology</td>\n",
       "      <td>Tortora writes in Principles of Anatomy and Ph...</td>\n",
       "      <td>Are lymphocyte sizes clustered in two groups?</td>\n",
       "    </tr>\n",
       "    <tr>\n",
       "      <th>3</th>\n",
       "      <td>1.0</td>\n",
       "      <td>0.0</td>\n",
       "      <td>0.0</td>\n",
       "      <td>0.0</td>\n",
       "      <td>0.0</td>\n",
       "      <td>0.0</td>\n",
       "      <td>cell-culture</td>\n",
       "      <td>Various people in our lab will prepare a liter...</td>\n",
       "      <td>How long does antibiotic-dosed LB maintain goo...</td>\n",
       "    </tr>\n",
       "    <tr>\n",
       "      <th>4</th>\n",
       "      <td>1.0</td>\n",
       "      <td>0.0</td>\n",
       "      <td>0.0</td>\n",
       "      <td>0.0</td>\n",
       "      <td>0.0</td>\n",
       "      <td>0.0</td>\n",
       "      <td>splicing mrna spliceosome introns exons</td>\n",
       "      <td>Are there any cases in which the splicing mach...</td>\n",
       "      <td>Is exon order always preserved in splicing?</td>\n",
       "    </tr>\n",
       "  </tbody>\n",
       "</table>\n",
       "</div>"
      ],
      "text/plain": [
       "   is_biology  is_cooking  is_crypto  is_diy  is_robotics  is_travel  \\\n",
       "0         1.0         0.0        0.0     0.0          0.0        0.0   \n",
       "1         1.0         0.0        0.0     0.0          0.0        0.0   \n",
       "2         1.0         0.0        0.0     0.0          0.0        0.0   \n",
       "3         1.0         0.0        0.0     0.0          0.0        0.0   \n",
       "4         1.0         0.0        0.0     0.0          0.0        0.0   \n",
       "\n",
       "                                                tags  \\\n",
       "0  ribosome binding-sites translation synthetic-b...   \n",
       "1                                   rna biochemistry   \n",
       "2                 immunology cell-biology hematology   \n",
       "3                                       cell-culture   \n",
       "4            splicing mrna spliceosome introns exons   \n",
       "\n",
       "                                                text  \\\n",
       "0  In prokaryotic translation, how critical for e...   \n",
       "1  Does anyone have any suggestions to prevent RN...   \n",
       "2  Tortora writes in Principles of Anatomy and Ph...   \n",
       "3  Various people in our lab will prepare a liter...   \n",
       "4  Are there any cases in which the splicing mach...   \n",
       "\n",
       "                                               title  \n",
       "0  What is the criticality of the ribosome bindin...  \n",
       "1  How is RNAse contamination in RNA based experi...  \n",
       "2      Are lymphocyte sizes clustered in two groups?  \n",
       "3  How long does antibiotic-dosed LB maintain goo...  \n",
       "4        Is exon order always preserved in splicing?  "
      ]
     },
     "execution_count": 42,
     "metadata": {},
     "output_type": "execute_result"
    }
   ],
   "source": [
    "df.head()"
   ]
  },
  {
   "cell_type": "code",
   "execution_count": 43,
   "metadata": {
    "collapsed": true
   },
   "outputs": [],
   "source": [
    "df.to_csv('df.csv', encoding='utf-8')"
   ]
  }
 ],
 "metadata": {
  "anaconda-cloud": {},
  "kernelspec": {
   "display_name": "Python [Root]",
   "language": "python",
   "name": "Python [Root]"
  },
  "language_info": {
   "codemirror_mode": {
    "name": "ipython",
    "version": 2
   },
   "file_extension": ".py",
   "mimetype": "text/x-python",
   "name": "python",
   "nbconvert_exporter": "python",
   "pygments_lexer": "ipython2",
   "version": "2.7.11"
  }
 },
 "nbformat": 4,
 "nbformat_minor": 0
}
